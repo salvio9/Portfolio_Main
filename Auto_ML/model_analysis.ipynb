{
 "cells": [
  {
   "cell_type": "code",
   "execution_count": 1,
   "id": "2828fc3b-602c-40e0-9dd9-5552ea3fab2c",
   "metadata": {
    "tags": []
   },
   "outputs": [
    {
     "data": {
      "text/plain": [
       "Intitializing PySpark ..."
      ]
     },
     "metadata": {},
     "output_type": "display_data"
    },
    {
     "name": "stdout",
     "output_type": "stream",
     "text": [
      "23/06/01 20:42:31 WARN Utils: Your hostname, DESKTOP-VJTDOFP resolves to a loopback address: 127.0.1.1; using 172.27.220.32 instead (on interface eth0)\n",
      "23/06/01 20:42:31 WARN Utils: Set SPARK_LOCAL_IP if you need to bind to another address\n",
      "23/06/01 20:42:33 WARN NativeCodeLoader: Unable to load native-hadoop library for your platform... using builtin-java classes where applicable\n",
      "23/06/01 20:42:34 WARN Utils: Service 'SparkUI' could not bind on port 4040. Attempting port 4041.\n"
     ]
    },
    {
     "data": {
      "text/plain": [
       "Spark Web UI available at http://172.27.220.32:4041\n",
       "SparkContext available as 'sc' (version = 3.3.1, master = local[*], app id = local-1685648554059)\n",
       "SparkSession available as 'spark'\n"
      ]
     },
     "metadata": {},
     "output_type": "display_data"
    }
   ],
   "source": [
    "spark\n",
    "import numpy as np\n",
    "import pandas as pd\n",
    "import re\n",
    "import pyspark\n",
    "from pyspark.sql.functions import lit\n",
    "from pyspark.sql.functions import regexp_replace\n",
    "from pyspark.sql.functions import trim,ltrim,rtrim\n",
    "from pyspark.sql.functions import *\n",
    "from pyspark.sql.functions import mean\n",
    "from ydata_profiling import ProfileReport\n",
    "from pyspark.ml.feature import VectorAssembler\n",
    "from pyspark.ml.regression import DecisionTreeRegressor\n",
    "from pyspark.ml.evaluation import RegressionEvaluator\n",
    "from pyspark.sql.functions import lit\n",
    "from pyspark.ml.feature import StringIndexer, OneHotEncoder, VectorAssembler\n",
    "from pyspark.ml import Pipeline\n",
    "from pyspark.ml.classification import DecisionTreeClassifier\n",
    "from pyspark.sql.functions import mean, when, col\n",
    "from pyspark.ml.classification import DecisionTreeClassificationModel\n",
    "from pycaret.classification import *\n",
    "from pycaret.classification import ClassificationExperiment\n",
    "from imblearn.over_sampling import RandomOverSampler, SMOTE\n",
    "from imblearn.under_sampling import RandomUnderSampler, NearMiss\n",
    "from collections import Counter"
   ]
  },
  {
   "cell_type": "code",
   "execution_count": 2,
   "id": "7489fd75-7f2a-463c-bd62-58403e6de61f",
   "metadata": {
    "tags": []
   },
   "outputs": [],
   "source": [
    "path = \"./model_data/part-00000-8f3d2c8d-e21b-4ae6-a337-4cbd28bb3ac8-c000.csv\"\n",
    "df = spark.read.option('header' , 'True').csv(path)\n",
    "df = df.withColumn(\"Prize\",df.Prize.cast('integer'))\n",
    "df = df.withColumn(\"nSets\",df.nSets.cast('integer'))\n",
    "df = df.withColumn(\"Year\",df.Year.cast('integer'))\n",
    "df = df.withColumn(\"rank_dif\",df.rank_dif.cast('double'))\n",
    "df = df.withColumn(\"loser_home\",df.loser_home.cast('int'))\n",
    "df = df.withColumn(\"winner_home\",df.winner_home.cast('int'))\n",
    "df = df.withColumn(\"GameRank_winner\",df.GameRank_winner.cast('double'))\n",
    "df = df.withColumn(\"GameRank_loser\",df.GameRank_loser.cast('double'))\n",
    "df = df.withColumn(\"Height_dif\",df.Height_dif.cast('double'))\n",
    "df_pandas = df.toPandas()\n"
   ]
  },
  {
   "cell_type": "code",
   "execution_count": 3,
   "id": "7aaa18da-9369-4553-8361-4e7202dadfee",
   "metadata": {
    "tags": []
   },
   "outputs": [
    {
     "name": "stdout",
     "output_type": "stream",
     "text": [
      "                        Description             Value\n",
      "0                        Session id               123\n",
      "1                            Target             nSets\n",
      "2                       Target type            Binary\n",
      "3                    Target mapping        2: 0, 3: 1\n",
      "4               Original data shape       (76321, 12)\n",
      "5            Transformed data shape       (94409, 31)\n",
      "6       Transformed train set shape       (71512, 31)\n",
      "7        Transformed test set shape       (22897, 31)\n",
      "8                  Numeric features                 8\n",
      "9              Categorical features                 3\n",
      "10         Rows with missing values             33.9%\n",
      "11                       Preprocess              True\n",
      "12                  Imputation type         iterative\n",
      "13  Iterative imputation iterations                 5\n",
      "14        Numeric iterative imputer          lightgbm\n",
      "15    Categorical iterative imputer          lightgbm\n",
      "16         Maximum one-hot encoding                25\n",
      "17                  Encoding method              None\n",
      "18                    Fix imbalance              True\n",
      "19             Fix imbalance method             SMOTE\n",
      "20                        Normalize              True\n",
      "21                 Normalize method            zscore\n",
      "22                   Fold Generator   StratifiedKFold\n",
      "23                      Fold Number                10\n",
      "24                         CPU Jobs                -1\n",
      "25                          Use GPU             False\n",
      "26                   Log Experiment             False\n",
      "27                  Experiment Name  clf-default-name\n",
      "28                              USI              01f3\n"
     ]
    }
   ],
   "source": [
    "setup = setup(df_pandas,target = \"nSets\",imputation_type= \"iterative\",fix_imbalance = True, normalize = True,session_id = 123,)"
   ]
  },
  {
   "cell_type": "markdown",
   "id": "aed69229-0b9d-45d0-a966-29dd4193286e",
   "metadata": {},
   "source": [
    "blender and stacker use the following models \"gbc,lgbm,lda,ct\""
   ]
  },
  {
   "cell_type": "code",
   "execution_count": 4,
   "id": "354d5178-393e-43d3-ac8d-28e9ee8d09dd",
   "metadata": {
    "tags": []
   },
   "outputs": [
    {
     "name": "stdout",
     "output_type": "stream",
     "text": [
      "Transformation Pipeline and Model Successfully Loaded\n",
      "Transformation Pipeline and Model Successfully Loaded\n",
      "Transformation Pipeline and Model Successfully Loaded\n",
      "Transformation Pipeline and Model Successfully Loaded\n",
      "Transformation Pipeline and Model Successfully Loaded\n",
      "Transformation Pipeline and Model Successfully Loaded\n",
      "Transformation Pipeline and Model Successfully Loaded\n",
      "Transformation Pipeline and Model Successfully Loaded\n",
      "Transformation Pipeline and Model Successfully Loaded\n",
      "Transformation Pipeline and Model Successfully Loaded\n",
      "Transformation Pipeline and Model Successfully Loaded\n"
     ]
    }
   ],
   "source": [
    "blender =load_model(\"./blender_v1\")\n",
    "catboost = load_model(\"./catboost_v1\")\n",
    "gbc =load_model( \"./gbc_v1\")\n",
    "lda =load_model(\"./lda_v1\")\n",
    "lgbm =load_model(\"./lgbm_v1\")\n",
    "lr = load_model(\"./lr_v1\")\n",
    "nb = load_model(\"./nb_v1\")\n",
    "rf = load_model(\"./rf_v1\")\n",
    "stacker =load_model(\"./stacker_v1\")\n",
    "blended_top5_auc = load_model(\"./blended_top5\")\n",
    "blended_top5_acc = load_model(\"./blended_top5_acc\")"
   ]
  },
  {
   "cell_type": "code",
   "execution_count": 5,
   "id": "f89a022a-888a-4c64-bbf7-b1a9f6c107c7",
   "metadata": {
    "tags": []
   },
   "outputs": [],
   "source": [
    "models = [blender,catboost,gbc,lda,lgbm,lr,nb,rf,stacker,blended_top5_auc,blended_top5_acc]"
   ]
  },
  {
   "cell_type": "code",
   "execution_count": 6,
   "id": "bd6665a7-cfb2-4cea-8c45-a2d186afdd14",
   "metadata": {
    "tags": []
   },
   "outputs": [
    {
     "name": "stdout",
     "output_type": "stream",
     "text": [
      "0\n",
      "               Model  Accuracy     AUC  Recall  Prec.  F1  Kappa    MCC\n",
      "0  Voting Classifier    0.6683  0.5666       0      0   0  0.017  0.044\n",
      "1\n",
      "                 Model  Accuracy     AUC  Recall  Prec.  F1   Kappa     MCC\n",
      "0  CatBoost Classifier    0.6648  0.5578       0      0   0  0.0206  0.0413\n",
      "2\n",
      "                          Model  Accuracy     AUC  ...  F1  Kappa     MCC\n",
      "0  Gradient Boosting Classifier    0.6692  0.5641  ...   0  0.004  0.0222\n",
      "\n",
      "[1 rows x 8 columns]\n",
      "3\n",
      "                          Model  Accuracy     AUC  ...  F1   Kappa    MCC\n",
      "0  Linear Discriminant Analysis    0.4999  0.5542  ...   0  0.0661  0.077\n",
      "\n",
      "[1 rows x 8 columns]\n",
      "4\n",
      "                             Model  Accuracy     AUC  ...  F1   Kappa     MCC\n",
      "0  Light Gradient Boosting Machine    0.6704  0.5643  ...   0  0.0161  0.0514\n",
      "\n",
      "[1 rows x 8 columns]\n",
      "5\n",
      "                 Model  Accuracy     AUC  Recall  Prec.  F1   Kappa     MCC\n",
      "0  Logistic Regression       0.5  0.5542       0      0   0  0.0658  0.0765\n",
      "6\n",
      "         Model  Accuracy     AUC  Recall  Prec.  F1   Kappa     MCC\n",
      "0  Naive Bayes    0.3317  0.5349       0      0   0 -0.0008 -0.0087\n",
      "7\n",
      "                      Model  Accuracy     AUC  ...  F1   Kappa     MCC\n",
      "0  Random Forest Classifier    0.6326  0.5319  ...   0  0.0186  0.0221\n",
      "\n",
      "[1 rows x 8 columns]\n",
      "8\n",
      "                 Model  Accuracy     AUC  Recall  Prec.  F1   Kappa     MCC\n",
      "0  Stacking Classifier    0.6625  0.5664       0      0   0  0.0257  0.0451\n",
      "9\n",
      "               Model  Accuracy     AUC  Recall  Prec.  F1   Kappa     MCC\n",
      "0  Voting Classifier    0.6652  0.5662       0      0   0  0.0201  0.0413\n",
      "10\n",
      "               Model  Accuracy     AUC  Recall  Prec.  F1  Kappa     MCC\n",
      "0  Voting Classifier    0.6699  0.5701       0      0   0  0.011  0.0412\n"
     ]
    }
   ],
   "source": [
    "j = 0\n",
    "for i in models:\n",
    "    print(j)\n",
    "    predict_model(i)\n",
    "    j = j + 1"
   ]
  },
  {
   "cell_type": "code",
   "execution_count": 7,
   "id": "1ff9fb4f-e621-4275-b875-4182de69a226",
   "metadata": {},
   "outputs": [],
   "source": [
    "top_3_auc = [blended_top5_auc, blender,blended_top5_acc]"
   ]
  },
  {
   "cell_type": "code",
   "execution_count": 8,
   "id": "5cee4c5b-77da-48af-a775-9200b0a5e6e4",
   "metadata": {
    "tags": []
   },
   "outputs": [
    {
     "data": {
      "text/plain": [
       "'AUC.png'"
      ]
     },
     "execution_count": 8,
     "metadata": {},
     "output_type": "execute_result"
    }
   ],
   "source": [
    "\n",
    "plot_model(blended_top5_auc, plot = 'confusion_matrix',save = True)\n",
    "plot_model(blended_top5_auc, plot = 'auc',save = True)"
   ]
  },
  {
   "cell_type": "code",
   "execution_count": 12,
   "id": "c02c60fa-a7ac-4492-9df1-cfdef472f589",
   "metadata": {},
   "outputs": [
    {
     "data": {
      "text/plain": [
       "'AUC.png'"
      ]
     },
     "execution_count": 12,
     "metadata": {},
     "output_type": "execute_result"
    }
   ],
   "source": [
    "plot_model(blender, plot = 'confusion_matrix',save = True)\n",
    "plot_model(blender, plot = 'auc',save = True)"
   ]
  },
  {
   "cell_type": "code",
   "execution_count": 13,
   "id": "0eb0d8b8-c8a2-4a56-acba-26af24d77087",
   "metadata": {
    "tags": []
   },
   "outputs": [
    {
     "data": {
      "text/plain": [
       "'AUC.png'"
      ]
     },
     "execution_count": 13,
     "metadata": {},
     "output_type": "execute_result"
    }
   ],
   "source": [
    "plot_model(blended_top5_acc, plot = 'confusion_matrix',save = True)\n",
    "plot_model(blended_top5_acc, plot = 'auc',save = True)"
   ]
  },
  {
   "cell_type": "code",
   "execution_count": 9,
   "id": "00536431-35a2-4422-a06f-bd2ac85706bc",
   "metadata": {
    "tags": []
   },
   "outputs": [
    {
     "name": "stdout",
     "output_type": "stream",
     "text": [
      "0\n",
      "               Model  Accuracy     AUC  Recall  Prec.  F1   Kappa     MCC\n",
      "0  Voting Classifier    0.6652  0.5662       0      0   0  0.0201  0.0413\n",
      "1\n",
      "               Model  Accuracy     AUC  Recall  Prec.  F1  Kappa    MCC\n",
      "0  Voting Classifier    0.6683  0.5666       0      0   0  0.017  0.044\n",
      "2\n",
      "               Model  Accuracy     AUC  Recall  Prec.  F1  Kappa     MCC\n",
      "0  Voting Classifier    0.6699  0.5701       0      0   0  0.011  0.0412\n"
     ]
    }
   ],
   "source": [
    "j = 0\n",
    "for i in top_3_auc:\n",
    "    print(j)\n",
    "    predict_model(i)\n",
    "    j = j + 1"
   ]
  },
  {
   "cell_type": "code",
   "execution_count": null,
   "id": "7b42d011-e6f0-402c-b4bd-3824e9d7aa44",
   "metadata": {},
   "outputs": [],
   "source": []
  }
 ],
 "metadata": {
  "kernelspec": {
   "display_name": "PySpark (python)",
   "language": "python",
   "name": "pyspark_kernel"
  },
  "language_info": {
   "file_extension": ".py",
   "help_links": [
    {
     "text": "MetaKernel Magics",
     "url": "https://metakernel.readthedocs.io/en/latest/source/README.html"
    }
   ],
   "mimetype": "text/x-python",
   "name": "python"
  }
 },
 "nbformat": 4,
 "nbformat_minor": 5
}
