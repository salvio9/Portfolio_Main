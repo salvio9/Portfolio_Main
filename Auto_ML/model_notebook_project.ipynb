{
 "cells": [
  {
   "cell_type": "code",
   "execution_count": 1,
   "id": "f104786c-883a-4799-8295-5c0063ee22a7",
   "metadata": {},
   "outputs": [
    {
     "data": {
      "text/plain": [
       "Intitializing PySpark ..."
      ]
     },
     "metadata": {},
     "output_type": "display_data"
    },
    {
     "name": "stdout",
     "output_type": "stream",
     "text": [
      "23/05/30 14:29:18 WARN Utils: Your hostname, DESKTOP-VJTDOFP resolves to a loopback address: 127.0.1.1; using 172.27.220.32 instead (on interface eth0)\n",
      "23/05/30 14:29:18 WARN Utils: Set SPARK_LOCAL_IP if you need to bind to another address\n",
      "23/05/30 14:29:20 WARN NativeCodeLoader: Unable to load native-hadoop library for your platform... using builtin-java classes where applicable\n"
     ]
    },
    {
     "data": {
      "text/plain": [
       "Spark Web UI available at http://172.27.220.32:4040\n",
       "SparkContext available as 'sc' (version = 3.3.1, master = local[*], app id = local-1685453360741)\n",
       "SparkSession available as 'spark'\n"
      ]
     },
     "metadata": {},
     "output_type": "display_data"
    }
   ],
   "source": [
    "spark\n",
    "import numpy as np\n",
    "import pandas as pd\n",
    "import re\n",
    "import pyspark\n",
    "from pyspark.sql.functions import lit\n",
    "from pyspark.sql.functions import regexp_replace\n",
    "from pyspark.sql.functions import trim,ltrim,rtrim\n",
    "from pyspark.sql.functions import *\n",
    "from pyspark.sql.functions import mean\n",
    "from ydata_profiling import ProfileReport\n",
    "from pyspark.ml.feature import VectorAssembler\n",
    "from pyspark.ml.regression import DecisionTreeRegressor\n",
    "from pyspark.ml.evaluation import RegressionEvaluator\n",
    "from pyspark.sql.functions import lit\n",
    "from pyspark.ml.feature import StringIndexer, OneHotEncoder, VectorAssembler\n",
    "from pyspark.ml import Pipeline\n",
    "from pyspark.ml.classification import DecisionTreeClassifier\n",
    "from pyspark.sql.functions import mean, when, col\n",
    "from pyspark.ml.classification import DecisionTreeClassificationModel\n",
    "from pycaret.classification import *\n",
    "from pycaret.classification import ClassificationExperiment\n",
    "from imblearn.over_sampling import RandomOverSampler, SMOTE\n",
    "from imblearn.under_sampling import RandomUnderSampler, NearMiss\n",
    "from collections import Counter"
   ]
  },
  {
   "cell_type": "code",
   "execution_count": 2,
   "id": "e07f5288-bbe8-4276-bdde-8e2ca8a8aab0",
   "metadata": {
    "tags": []
   },
   "outputs": [],
   "source": [
    "path = \"./model_data/part-00000-8f3d2c8d-e21b-4ae6-a337-4cbd28bb3ac8-c000.csv\""
   ]
  },
  {
   "cell_type": "code",
   "execution_count": 3,
   "id": "b7bb39fc-4793-4e7c-b4bf-b0457dd1d025",
   "metadata": {
    "tags": []
   },
   "outputs": [],
   "source": [
    "\n",
    "df = spark.read.option('header' , 'True').csv(path)"
   ]
  },
  {
   "cell_type": "code",
   "execution_count": 4,
   "id": "f9b69943-cf7d-4c40-89eb-6e020582bb3e",
   "metadata": {
    "tags": []
   },
   "outputs": [
    {
     "data": {
      "text/plain": [
       "<bound method DataFrame.printSchema of DataFrame[GameRound: string, nSets: string, Ground: string, Prize: string, GameRank_winner: string, GameRank_loser: string, Year: string, Height_dif: string, winner_home: string, loser_home: string, comb_hands: string, rank_dif: string]>"
      ]
     },
     "execution_count": 4,
     "metadata": {},
     "output_type": "execute_result"
    }
   ],
   "source": [
    "df.printSchema"
   ]
  },
  {
   "cell_type": "code",
   "execution_count": 5,
   "id": "973d63a3-5d2f-4d0a-8bfd-264508cc7a07",
   "metadata": {
    "tags": []
   },
   "outputs": [
    {
     "data": {
      "text/plain": [
       "76321"
      ]
     },
     "execution_count": 5,
     "metadata": {},
     "output_type": "execute_result"
    }
   ],
   "source": [
    "df.count()"
   ]
  },
  {
   "cell_type": "code",
   "execution_count": 6,
   "id": "b2b7bb03-05c1-4ffd-b5df-739220b8ebd8",
   "metadata": {
    "tags": []
   },
   "outputs": [],
   "source": [
    "df = df.withColumn(\"nSets\",df.nSets.cast('integer'))"
   ]
  },
  {
   "cell_type": "code",
   "execution_count": 7,
   "id": "0c807a1d-f824-422f-aabb-1d213dcd8dbe",
   "metadata": {
    "tags": []
   },
   "outputs": [],
   "source": [
    "df = df.withColumn(\"Prize\",df.Prize.cast('integer'))"
   ]
  },
  {
   "cell_type": "code",
   "execution_count": 8,
   "id": "7598a2af-0b23-4ac1-9138-143a692df34f",
   "metadata": {
    "tags": []
   },
   "outputs": [],
   "source": [
    "df = df.withColumn(\"Year\",df.Year.cast('integer'))"
   ]
  },
  {
   "cell_type": "code",
   "execution_count": 9,
   "id": "43d7124a-f03a-4098-a0bd-de83cbde6b6a",
   "metadata": {
    "tags": []
   },
   "outputs": [],
   "source": [
    "df = df.withColumn(\"rank_dif\",df.rank_dif.cast('double'))"
   ]
  },
  {
   "cell_type": "code",
   "execution_count": 10,
   "id": "24554709-b5bd-4696-ba10-96eec9c93b8d",
   "metadata": {
    "tags": []
   },
   "outputs": [],
   "source": [
    "df = df.withColumn(\"loser_home\",df.loser_home.cast('int'))"
   ]
  },
  {
   "cell_type": "code",
   "execution_count": 11,
   "id": "47bf669c-d1e5-4098-bcf3-5c90bc658ad3",
   "metadata": {
    "tags": []
   },
   "outputs": [],
   "source": [
    "df = df.withColumn(\"winner_home\",df.winner_home.cast('int'))"
   ]
  },
  {
   "cell_type": "code",
   "execution_count": 12,
   "id": "a6fcb93e-6e14-4f2a-a7b9-0f57cc3af553",
   "metadata": {
    "tags": []
   },
   "outputs": [],
   "source": [
    "df = df.withColumn(\"GameRank_winner\",df.GameRank_winner.cast('double'))"
   ]
  },
  {
   "cell_type": "code",
   "execution_count": 13,
   "id": "23f0c628-a8f6-48ba-8531-4497f74271f4",
   "metadata": {
    "tags": []
   },
   "outputs": [],
   "source": [
    "df = df.withColumn(\"GameRank_loser\",df.GameRank_loser.cast('double'))"
   ]
  },
  {
   "cell_type": "code",
   "execution_count": 14,
   "id": "4ad8e673-e832-4b8b-92b6-23af2dbe7cfc",
   "metadata": {
    "tags": []
   },
   "outputs": [],
   "source": [
    "df = df.withColumn(\"Height_dif\",df.Height_dif.cast('double'))"
   ]
  },
  {
   "cell_type": "code",
   "execution_count": 15,
   "id": "45d61125-dfaa-4188-a2ec-2088855067c0",
   "metadata": {
    "tags": []
   },
   "outputs": [],
   "source": [
    "df_pandas = df.toPandas()"
   ]
  },
  {
   "cell_type": "markdown",
   "id": "fdbe4082-25e6-49d4-991a-ad6dd5388e8c",
   "metadata": {
    "tags": []
   },
   "source": [
    "report = ProfileReport(df_pandas) \n",
    "report.to_file(\"report_model.html\")"
   ]
  },
  {
   "cell_type": "code",
   "execution_count": null,
   "id": "618cd526-4680-4835-a8a3-ebc7f354a586",
   "metadata": {
    "tags": []
   },
   "outputs": [],
   "source": []
  },
  {
   "cell_type": "code",
   "execution_count": 16,
   "id": "77425d95-2669-4fcc-8917-2582bff49182",
   "metadata": {
    "tags": []
   },
   "outputs": [
    {
     "name": "stdout",
     "output_type": "stream",
     "text": [
      "                        Description             Value\n",
      "0                        Session id               123\n",
      "1                            Target             nSets\n",
      "2                       Target type            Binary\n",
      "3                    Target mapping        2: 0, 3: 1\n",
      "4               Original data shape       (76321, 12)\n",
      "5            Transformed data shape       (94409, 31)\n",
      "6       Transformed train set shape       (71512, 31)\n",
      "7        Transformed test set shape       (22897, 31)\n",
      "8                  Numeric features                 8\n",
      "9              Categorical features                 3\n",
      "10         Rows with missing values             33.9%\n",
      "11                       Preprocess              True\n",
      "12                  Imputation type         iterative\n",
      "13  Iterative imputation iterations                 5\n",
      "14        Numeric iterative imputer          lightgbm\n",
      "15    Categorical iterative imputer          lightgbm\n",
      "16         Maximum one-hot encoding                25\n",
      "17                  Encoding method              None\n",
      "18                    Fix imbalance              True\n",
      "19             Fix imbalance method             SMOTE\n",
      "20                        Normalize              True\n",
      "21                 Normalize method            zscore\n",
      "22                   Fold Generator   StratifiedKFold\n",
      "23                      Fold Number                10\n",
      "24                         CPU Jobs                -1\n",
      "25                          Use GPU             False\n",
      "26                   Log Experiment             False\n",
      "27                  Experiment Name  clf-default-name\n",
      "28                              USI              3165\n"
     ]
    }
   ],
   "source": [
    "setup = setup(df_pandas,target = \"nSets\",imputation_type= \"iterative\",fix_imbalance = True, normalize = True,session_id = 123,)"
   ]
  },
  {
   "cell_type": "code",
   "execution_count": 17,
   "id": "9e8685db-bbf9-4a15-9bdc-42d667f94244",
   "metadata": {
    "tags": []
   },
   "outputs": [
    {
     "name": "stdout",
     "output_type": "stream",
     "text": [
      "                                    Model  Accuracy     AUC  Recall   Prec.  \\\n",
      "gbc          Gradient Boosting Classifier    0.6695  0.5612  0.0067  0.5236   \n",
      "dummy                    Dummy Classifier    0.6693  0.5000  0.0000  0.0000   \n",
      "lightgbm  Light Gradient Boosting Machine    0.6684  0.5631  0.0205  0.4682   \n",
      "ada                  Ada Boost Classifier    0.6675  0.5381  0.0126  0.2034   \n",
      "catboost              CatBoost Classifier    0.6623  0.5583  0.0430  0.4018   \n",
      "xgboost         Extreme Gradient Boosting    0.6566  0.5501  0.0703  0.3928   \n",
      "rf               Random Forest Classifier    0.6311  0.5283  0.1386  0.3534   \n",
      "knn                K Neighbors Classifier    0.5836  0.5173  0.2934  0.3468   \n",
      "dt               Decision Tree Classifier    0.5596  0.5096  0.3617  0.3429   \n",
      "lr                    Logistic Regression    0.4990  0.5574  0.6576  0.3593   \n",
      "ridge                    Ridge Classifier    0.4986  0.0000  0.6584  0.3592   \n",
      "lda          Linear Discriminant Analysis    0.4986  0.5573  0.6584  0.3592   \n",
      "svm                   SVM - Linear Kernel    0.4902  0.0000  0.6258  0.3490   \n",
      "qda       Quadratic Discriminant Analysis    0.3387  0.5157  0.9753  0.3306   \n",
      "nb                            Naive Bayes    0.3330  0.5335  0.9937  0.3308   \n",
      "\n",
      "              F1   Kappa     MCC  TT (Sec)  \n",
      "gbc       0.0132  0.0049  0.0263     2.053  \n",
      "dummy     0.0000  0.0000  0.0000     0.131  \n",
      "lightgbm  0.0392  0.0119  0.0354     0.452  \n",
      "ada       0.0236  0.0049  0.0120     0.647  \n",
      "catboost  0.0776  0.0146  0.0289    20.338  \n",
      "xgboost   0.1192  0.0209  0.0331     2.382  \n",
      "rf        0.1991  0.0155  0.0185     8.261  \n",
      "knn       0.3178  0.0212  0.0214     0.846  \n",
      "dt        0.3520  0.0189  0.0189     0.237  \n",
      "lr        0.4647  0.0646  0.0753     0.969  \n",
      "ridge     0.4648  0.0644  0.0751     0.168  \n",
      "lda       0.4648  0.0644  0.0751     0.219  \n",
      "svm       0.4467  0.0406  0.0476     0.248  \n",
      "qda       0.4937 -0.0004  0.0002     0.205  \n",
      "nb        0.4963  0.0002  0.0005     0.170  \n"
     ]
    }
   ],
   "source": [
    "best = compare_models()"
   ]
  },
  {
   "cell_type": "code",
   "execution_count": 18,
   "id": "ea1f2a41-130c-44fb-b912-30256e563fb9",
   "metadata": {
    "tags": []
   },
   "outputs": [
    {
     "name": "stdout",
     "output_type": "stream",
     "text": [
      "                                    Model  Accuracy     AUC  Recall   Prec.  \\\n",
      "lightgbm  Light Gradient Boosting Machine    0.6684  0.5631  0.0205  0.4682   \n",
      "gbc          Gradient Boosting Classifier    0.6695  0.5612  0.0067  0.5236   \n",
      "catboost              CatBoost Classifier    0.6623  0.5583  0.0430  0.4018   \n",
      "lr                    Logistic Regression    0.4990  0.5574  0.6576  0.3593   \n",
      "lda          Linear Discriminant Analysis    0.4986  0.5573  0.6584  0.3592   \n",
      "xgboost         Extreme Gradient Boosting    0.6566  0.5501  0.0703  0.3928   \n",
      "ada                  Ada Boost Classifier    0.6675  0.5381  0.0126  0.2034   \n",
      "nb                            Naive Bayes    0.3330  0.5335  0.9937  0.3308   \n",
      "rf               Random Forest Classifier    0.6311  0.5283  0.1386  0.3534   \n",
      "knn                K Neighbors Classifier    0.5836  0.5173  0.2934  0.3468   \n",
      "qda       Quadratic Discriminant Analysis    0.3387  0.5157  0.9753  0.3306   \n",
      "dt               Decision Tree Classifier    0.5596  0.5096  0.3617  0.3429   \n",
      "svm                   SVM - Linear Kernel    0.4902  0.0000  0.6258  0.3490   \n",
      "ridge                    Ridge Classifier    0.4986  0.0000  0.6584  0.3592   \n",
      "\n",
      "              F1   Kappa     MCC  TT (Sec)  \n",
      "lightgbm  0.0392  0.0119  0.0354     0.224  \n",
      "gbc       0.0132  0.0049  0.0263     0.227  \n",
      "catboost  0.0776  0.0146  0.0289     0.166  \n",
      "lr        0.4647  0.0646  0.0753     0.126  \n",
      "lda       0.4648  0.0644  0.0751     0.112  \n",
      "xgboost   0.1192  0.0209  0.0331     0.655  \n",
      "ada       0.0236  0.0049  0.0120     0.302  \n",
      "nb        0.4963  0.0002  0.0005     0.118  \n",
      "rf        0.1991  0.0155  0.0185     0.663  \n",
      "knn       0.3178  0.0212  0.0214     0.701  \n",
      "qda       0.4937 -0.0004  0.0002     0.148  \n",
      "dt        0.3520  0.0189  0.0189     0.108  \n",
      "svm       0.4467  0.0406  0.0476     0.100  \n",
      "ridge     0.4648  0.0644  0.0751     0.108  \n"
     ]
    }
   ],
   "source": [
    "best_models = compare_models(n_select=5, sort=\"AUC\",exclude = [\"dummy\"])"
   ]
  },
  {
   "cell_type": "code",
   "execution_count": 19,
   "id": "f1195a8c-42aa-4f67-bf52-e3c1e0a40c92",
   "metadata": {
    "tags": []
   },
   "outputs": [
    {
     "name": "stdout",
     "output_type": "stream",
     "text": [
      "Fitting 10 folds for each of 10 candidates, totalling 100 fits\n",
      "      Accuracy     AUC  Recall   Prec.      F1   Kappa     MCC\n",
      "Fold                                                          \n",
      "0       0.6706  0.5651  0.0108  0.6129  0.0211  0.0098  0.0458\n",
      "1       0.6704  0.5712  0.0130  0.5750  0.0255  0.0110  0.0451\n",
      "2       0.6682  0.5555  0.0091  0.4211  0.0177  0.0039  0.0163\n",
      "3       0.6700  0.5627  0.0136  0.5455  0.0265  0.0106  0.0416\n",
      "4       0.6707  0.5660  0.0085  0.6818  0.0168  0.0087  0.0480\n",
      "5       0.6709  0.5732  0.0079  0.7368  0.0157  0.0087  0.0516\n",
      "6       0.6702  0.5661  0.0113  0.5714  0.0222  0.0095  0.0415\n",
      "7       0.6687  0.5640  0.0102  0.4615  0.0199  0.0057  0.0238\n",
      "8       0.6713  0.5689  0.0113  0.6667  0.0223  0.0114  0.0537\n",
      "9       0.6711  0.5728  0.0091  0.6957  0.0179  0.0095  0.0510\n",
      "Mean    0.6702  0.5665  0.0105  0.5968  0.0206  0.0089  0.0418\n",
      "Std     0.0010  0.0051  0.0018  0.0973  0.0034  0.0022  0.0117\n",
      "Fitting 10 folds for each of 10 candidates, totalling 100 fits\n",
      "Original model was better than the tuned model, hence it will be returned. NOTE: The display metrics are for the tuned model (not the original one).\n",
      "      Accuracy     AUC  Recall   Prec.      F1   Kappa     MCC\n",
      "Fold                                                          \n",
      "0       0.6667  0.5584  0.0147  0.3939  0.0284  0.0047  0.0150\n",
      "1       0.6684  0.5601  0.0158  0.4590  0.0306  0.0088  0.0293\n",
      "2       0.6676  0.5448  0.0119  0.4118  0.0231  0.0046  0.0169\n",
      "3       0.6693  0.5483  0.0125  0.5000  0.0243  0.0084  0.0328\n",
      "4       0.6657  0.5571  0.0096  0.3208  0.0187 -0.0006 -0.0021\n",
      "5       0.6692  0.5634  0.0147  0.5000  0.0286  0.0099  0.0357\n",
      "6       0.6681  0.5617  0.0136  0.4444  0.0264  0.0069  0.0244\n",
      "7       0.6685  0.5592  0.0153  0.4655  0.0296  0.0087  0.0300\n",
      "8       0.6642  0.5600  0.0119  0.3000  0.0229 -0.0024 -0.0075\n",
      "9       0.6664  0.5681  0.0136  0.3750  0.0262  0.0032  0.0104\n",
      "Mean    0.6674  0.5581  0.0134  0.4170  0.0259  0.0052  0.0185\n",
      "Std     0.0016  0.0065  0.0018  0.0663  0.0035  0.0039  0.0140\n",
      "Fitting 10 folds for each of 10 candidates, totalling 100 fits\n",
      "      Accuracy     AUC  Recall   Prec.      F1   Kappa     MCC\n",
      "Fold                                                          \n",
      "0       0.6704  0.5635  0.0164  0.5577  0.0319  0.0132  0.0478\n",
      "1       0.6674  0.5699  0.0141  0.4167  0.0274  0.0058  0.0195\n",
      "2       0.6674  0.5576  0.0136  0.4138  0.0263  0.0054  0.0185\n",
      "3       0.6708  0.5662  0.0181  0.5714  0.0351  0.0151  0.0527\n",
      "4       0.6715  0.5672  0.0141  0.6579  0.0277  0.0140  0.0588\n",
      "5       0.6707  0.5737  0.0136  0.6000  0.0266  0.0121  0.0497\n",
      "6       0.6698  0.5658  0.0158  0.5283  0.0308  0.0117  0.0420\n",
      "7       0.6698  0.5607  0.0175  0.5254  0.0340  0.0129  0.0437\n",
      "8       0.6692  0.5714  0.0136  0.4898  0.0264  0.0088  0.0326\n",
      "9       0.6702  0.5762  0.0142  0.5435  0.0276  0.0110  0.0422\n",
      "Mean    0.6697  0.5672  0.0151  0.5304  0.0294  0.0110  0.0407\n",
      "Std     0.0013  0.0055  0.0016  0.0720  0.0031  0.0032  0.0128\n",
      "Fitting 10 folds for each of 10 candidates, totalling 100 fits\n",
      "Original model was better than the tuned model, hence it will be returned. NOTE: The display metrics are for the tuned model (not the original one).\n",
      "      Accuracy     AUC  Recall   Prec.      F1   Kappa     MCC\n",
      "Fold                                                          \n",
      "0       0.4922  0.5466  0.6372  0.3521  0.4536  0.0480  0.0555\n",
      "1       0.5104  0.5645  0.6570  0.3661  0.4702  0.0791  0.0910\n",
      "2       0.4898  0.5430  0.6384  0.3509  0.4528  0.0454  0.0526\n",
      "3       0.4956  0.5602  0.6701  0.3592  0.4677  0.0652  0.0769\n",
      "4       0.4933  0.5582  0.6604  0.3564  0.4630  0.0585  0.0686\n",
      "5       0.5079  0.5628  0.6576  0.3647  0.4692  0.0760  0.0877\n",
      "6       0.5043  0.5621  0.6689  0.3643  0.4717  0.0758  0.0885\n",
      "7       0.4989  0.5491  0.6486  0.3579  0.4613  0.0609  0.0705\n",
      "8       0.5056  0.5707  0.6863  0.3674  0.4786  0.0842  0.0994\n",
      "9       0.4910  0.5568  0.6529  0.3538  0.4589  0.0527  0.0617\n",
      "Mean    0.4989  0.5574  0.6577  0.3593  0.4647  0.0646  0.0752\n",
      "Std     0.0072  0.0082  0.0142  0.0057  0.0078  0.0130  0.0152\n",
      "Fitting 10 folds for each of 10 candidates, totalling 100 fits\n",
      "Original model was better than the tuned model, hence it will be returned. NOTE: The display metrics are for the tuned model (not the original one).\n",
      "      Accuracy     AUC  Recall   Prec.      F1   Kappa     MCC\n",
      "Fold                                                          \n",
      "0       0.4922  0.5463  0.6372  0.3521  0.4536  0.0480  0.0555\n",
      "1       0.5087  0.5642  0.6565  0.3650  0.4692  0.0767  0.0883\n",
      "2       0.4892  0.5430  0.6401  0.3508  0.4532  0.0453  0.0527\n",
      "3       0.4945  0.5601  0.6695  0.3585  0.4669  0.0635  0.0750\n",
      "4       0.4938  0.5582  0.6650  0.3575  0.4650  0.0609  0.0718\n",
      "5       0.5075  0.5625  0.6599  0.3648  0.4699  0.0764  0.0883\n",
      "6       0.5041  0.5620  0.6701  0.3643  0.4720  0.0760  0.0888\n",
      "7       0.4985  0.5489  0.6497  0.3579  0.4615  0.0609  0.0706\n",
      "8       0.5054  0.5707  0.6874  0.3674  0.4789  0.0844  0.0997\n",
      "9       0.4897  0.5567  0.6535  0.3531  0.4585  0.0513  0.0601\n",
      "Mean    0.4984  0.5573  0.6589  0.3591  0.4649  0.0643  0.0751\n",
      "Std     0.0071  0.0083  0.0143  0.0057  0.0078  0.0129  0.0151\n"
     ]
    }
   ],
   "source": [
    "tuned_top5 = [tune_model(i, optimize= 'AUC') for i in best_models]"
   ]
  },
  {
   "cell_type": "code",
   "execution_count": 20,
   "id": "5b81cb3d-11ba-4969-812e-71096433755e",
   "metadata": {
    "tags": []
   },
   "outputs": [
    {
     "name": "stdout",
     "output_type": "stream",
     "text": [
      "      Accuracy     AUC  Recall   Prec.      F1   Kappa     MCC\n",
      "Fold                                                          \n",
      "0       0.6642  0.5591  0.0453  0.4278  0.0819  0.0198  0.0393\n",
      "1       0.6622  0.5715  0.0430  0.4000  0.0777  0.0144  0.0283\n",
      "2       0.6627  0.5539  0.0413  0.4033  0.0749  0.0144  0.0289\n",
      "3       0.6702  0.5650  0.0447  0.5163  0.0823  0.0312  0.0677\n",
      "4       0.6677  0.5678  0.0396  0.4730  0.0731  0.0232  0.0510\n",
      "5       0.6655  0.5727  0.0407  0.4390  0.0746  0.0195  0.0409\n",
      "6       0.6660  0.5685  0.0521  0.4577  0.0935  0.0278  0.0533\n",
      "7       0.6630  0.5608  0.0424  0.4098  0.0769  0.0158  0.0316\n",
      "8       0.6649  0.5735  0.0436  0.4326  0.0792  0.0199  0.0403\n",
      "9       0.6653  0.5720  0.0442  0.4382  0.0802  0.0210  0.0425\n",
      "Mean    0.6652  0.5665  0.0437  0.4398  0.0794  0.0207  0.0424\n",
      "Std     0.0023  0.0063  0.0033  0.0336  0.0055  0.0052  0.0116\n"
     ]
    }
   ],
   "source": [
    "blended_top5 = blend_models(estimator_list=tuned_top5)"
   ]
  },
  {
   "cell_type": "code",
   "execution_count": 21,
   "id": "7a3ef2cc-ac97-4523-ba61-12cf9aaa7131",
   "metadata": {
    "tags": []
   },
   "outputs": [
    {
     "name": "stdout",
     "output_type": "stream",
     "text": [
      "Transformation Pipeline and Model Successfully Saved\n"
     ]
    },
    {
     "data": {
      "text/plain": [
       "(Pipeline(memory=FastMemory(location=/tmp/joblib),\n",
       "         steps=[('label_encoding',\n",
       "                 TransformerWrapperWithInverse(exclude=None, include=None,\n",
       "                                               transformer=LabelEncoder())),\n",
       "                ('iterative_imputer',\n",
       "                 TransformerWrapper(exclude=None, include=None,\n",
       "                                    transformer=IterativeImputer(add_indicator=False,\n",
       "                                                                 cat_estimator=LGBMClassifier(boosting_type='gbdt',\n",
       "                                                                                              class_weight=None,\n",
       "                                                                                              colsampl...\n",
       "                                                                  penalty='l2',\n",
       "                                                                  random_state=123,\n",
       "                                                                  solver='lbfgs',\n",
       "                                                                  tol=0.0001,\n",
       "                                                                  verbose=0,\n",
       "                                                                  warm_start=False)),\n",
       "                                              ('Linear Discriminant Analysis',\n",
       "                                               LinearDiscriminantAnalysis(covariance_estimator=None,\n",
       "                                                                          n_components=None,\n",
       "                                                                          priors=None,\n",
       "                                                                          shrinkage=None,\n",
       "                                                                          solver='svd',\n",
       "                                                                          store_covariance=False,\n",
       "                                                                          tol=0.0001))],\n",
       "                                  flatten_transform=True, n_jobs=-1,\n",
       "                                  verbose=False, voting='soft',\n",
       "                                  weights=None))],\n",
       "         verbose=False), 'blended_top5.pkl')"
      ]
     },
     "execution_count": 21,
     "metadata": {},
     "output_type": "execute_result"
    }
   ],
   "source": [
    "save_model(blended_top5, 'blended_top5') "
   ]
  },
  {
   "cell_type": "code",
   "execution_count": 22,
   "id": "eee82f65-b4f4-4b5f-bdb4-70a80e1dc573",
   "metadata": {
    "tags": []
   },
   "outputs": [
    {
     "name": "stdout",
     "output_type": "stream",
     "text": [
      "                                    Model  Accuracy     AUC  Recall   Prec.  \\\n",
      "gbc          Gradient Boosting Classifier    0.6695  0.5612  0.0067  0.5236   \n",
      "lightgbm  Light Gradient Boosting Machine    0.6684  0.5631  0.0205  0.4682   \n",
      "ada                  Ada Boost Classifier    0.6675  0.5381  0.0126  0.2034   \n",
      "catboost              CatBoost Classifier    0.6623  0.5583  0.0430  0.4018   \n",
      "xgboost         Extreme Gradient Boosting    0.6566  0.5501  0.0703  0.3928   \n",
      "rf               Random Forest Classifier    0.6311  0.5283  0.1386  0.3534   \n",
      "knn                K Neighbors Classifier    0.5836  0.5173  0.2934  0.3468   \n",
      "dt               Decision Tree Classifier    0.5596  0.5096  0.3617  0.3429   \n",
      "lr                    Logistic Regression    0.4990  0.5574  0.6576  0.3593   \n",
      "ridge                    Ridge Classifier    0.4986  0.0000  0.6584  0.3592   \n",
      "lda          Linear Discriminant Analysis    0.4986  0.5573  0.6584  0.3592   \n",
      "svm                   SVM - Linear Kernel    0.4902  0.0000  0.6258  0.3490   \n",
      "qda       Quadratic Discriminant Analysis    0.3387  0.5157  0.9753  0.3306   \n",
      "nb                            Naive Bayes    0.3330  0.5335  0.9937  0.3308   \n",
      "\n",
      "              F1   Kappa     MCC  TT (Sec)  \n",
      "gbc       0.0132  0.0049  0.0263     0.130  \n",
      "lightgbm  0.0392  0.0119  0.0354     0.213  \n",
      "ada       0.0236  0.0049  0.0120     0.134  \n",
      "catboost  0.0776  0.0146  0.0289     0.195  \n",
      "xgboost   0.1192  0.0209  0.0331     0.687  \n",
      "rf        0.1991  0.0155  0.0185     0.564  \n",
      "knn       0.3178  0.0212  0.0214     0.797  \n",
      "dt        0.3520  0.0189  0.0189     0.109  \n",
      "lr        0.4647  0.0646  0.0753     0.309  \n",
      "ridge     0.4648  0.0644  0.0751     0.108  \n",
      "lda       0.4648  0.0644  0.0751     0.111  \n",
      "svm       0.4467  0.0406  0.0476     0.106  \n",
      "qda       0.4937 -0.0004  0.0002     0.126  \n",
      "nb        0.4963  0.0002  0.0005     0.117  \n"
     ]
    }
   ],
   "source": [
    "best_models = compare_models(n_select=5, \n",
    "                             sort=\"Accuracy\",exclude = [\"dummy\"])"
   ]
  },
  {
   "cell_type": "code",
   "execution_count": 23,
   "id": "7672a69b-bb34-43a2-89cc-83e46d3ed021",
   "metadata": {
    "tags": []
   },
   "outputs": [
    {
     "name": "stdout",
     "output_type": "stream",
     "text": [
      "Fitting 10 folds for each of 10 candidates, totalling 100 fits\n",
      "Original model was better than the tuned model, hence it will be returned. NOTE: The display metrics are for the tuned model (not the original one).\n",
      "      Accuracy     AUC  Recall   Prec.      F1   Kappa     MCC\n",
      "Fold                                                          \n",
      "0       0.6667  0.5354  0.0096  0.3542  0.0187  0.0013  0.0047\n",
      "1       0.6678  0.5428  0.0074  0.3824  0.0144  0.0020  0.0088\n",
      "2       0.6706  0.5400  0.0057  0.7692  0.0112  0.0064  0.0460\n",
      "3       0.6691  0.5464  0.0153  0.4909  0.0296  0.0099  0.0347\n",
      "4       0.6696  0.5538  0.0023  0.6667  0.0045  0.0023  0.0239\n",
      "5       0.6692  0.5557  0.0011  0.5000  0.0023  0.0008  0.0098\n",
      "6       0.6694  0.5563  0.0187  0.5077  0.0360  0.0129  0.0417\n",
      "7       0.6655  0.5493  0.0119  0.3387  0.0230  0.0006  0.0018\n",
      "8       0.6662  0.5537  0.0113  0.3509  0.0219  0.0013  0.0045\n",
      "9       0.6689  0.5627  0.0113  0.4651  0.0221  0.0065  0.0258\n",
      "Mean    0.6683  0.5496  0.0095  0.4826  0.0184  0.0044  0.0202\n",
      "Std     0.0016  0.0080  0.0052  0.1349  0.0100  0.0041  0.0156\n",
      "Fitting 10 folds for each of 10 candidates, totalling 100 fits\n",
      "      Accuracy     AUC  Recall   Prec.      F1   Kappa     MCC\n",
      "Fold                                                          \n",
      "0       0.6706  0.5651  0.0108  0.6129  0.0211  0.0098  0.0458\n",
      "1       0.6704  0.5712  0.0130  0.5750  0.0255  0.0110  0.0451\n",
      "2       0.6682  0.5555  0.0091  0.4211  0.0177  0.0039  0.0163\n",
      "3       0.6700  0.5627  0.0136  0.5455  0.0265  0.0106  0.0416\n",
      "4       0.6707  0.5660  0.0085  0.6818  0.0168  0.0087  0.0480\n",
      "5       0.6709  0.5732  0.0079  0.7368  0.0157  0.0087  0.0516\n",
      "6       0.6702  0.5661  0.0113  0.5714  0.0222  0.0095  0.0415\n",
      "7       0.6687  0.5640  0.0102  0.4615  0.0199  0.0057  0.0238\n",
      "8       0.6713  0.5689  0.0113  0.6667  0.0223  0.0114  0.0537\n",
      "9       0.6711  0.5728  0.0091  0.6957  0.0179  0.0095  0.0510\n",
      "Mean    0.6702  0.5665  0.0105  0.5968  0.0206  0.0089  0.0418\n",
      "Std     0.0010  0.0051  0.0018  0.0973  0.0034  0.0022  0.0117\n",
      "Fitting 10 folds for each of 10 candidates, totalling 100 fits\n",
      "      Accuracy     AUC  Recall   Prec.      F1   Kappa     MCC\n",
      "Fold                                                          \n",
      "0       0.6684  0.5191  0.0023  0.3077  0.0045 -0.0003 -0.0024\n",
      "1       0.6685  0.5381  0.0017  0.3000  0.0034 -0.0003 -0.0028\n",
      "2       0.6693  0.5312  0.0000  0.0000  0.0000  0.0000  0.0000\n",
      "3       0.6708  0.5433  0.0057  0.8333  0.0112  0.0068  0.0507\n",
      "4       0.6692  0.5462  0.0057  0.5000  0.0112  0.0038  0.0220\n",
      "5       0.6690  0.5412  0.0006  0.3333  0.0011  0.0000  0.0001\n",
      "6       0.6681  0.5448  0.0017  0.2500  0.0034 -0.0011 -0.0081\n",
      "7       0.6692  0.5361  0.0000  0.0000  0.0000  0.0000  0.0000\n",
      "8       0.6690  0.5451  0.0068  0.4615  0.0134  0.0038  0.0195\n",
      "9       0.6694  0.5476  0.0017  0.5000  0.0034  0.0011  0.0121\n",
      "Mean    0.6691  0.5393  0.0026  0.3486  0.0052  0.0014  0.0091\n",
      "Std     0.0007  0.0083  0.0024  0.2346  0.0047  0.0024  0.0168\n",
      "Fitting 10 folds for each of 10 candidates, totalling 100 fits\n",
      "      Accuracy     AUC  Recall   Prec.      F1   Kappa     MCC\n",
      "Fold                                                          \n",
      "0       0.6704  0.5635  0.0164  0.5577  0.0319  0.0132  0.0478\n",
      "1       0.6674  0.5699  0.0141  0.4167  0.0274  0.0058  0.0195\n",
      "2       0.6674  0.5576  0.0136  0.4138  0.0263  0.0054  0.0185\n",
      "3       0.6708  0.5662  0.0181  0.5714  0.0351  0.0151  0.0527\n",
      "4       0.6715  0.5672  0.0141  0.6579  0.0277  0.0140  0.0588\n",
      "5       0.6707  0.5737  0.0136  0.6000  0.0266  0.0121  0.0497\n",
      "6       0.6698  0.5658  0.0158  0.5283  0.0308  0.0117  0.0420\n",
      "7       0.6698  0.5607  0.0175  0.5254  0.0340  0.0129  0.0437\n",
      "8       0.6692  0.5714  0.0136  0.4898  0.0264  0.0088  0.0326\n",
      "9       0.6702  0.5762  0.0142  0.5435  0.0276  0.0110  0.0422\n",
      "Mean    0.6697  0.5672  0.0151  0.5304  0.0294  0.0110  0.0407\n",
      "Std     0.0013  0.0055  0.0016  0.0720  0.0031  0.0032  0.0128\n",
      "Fitting 10 folds for each of 10 candidates, totalling 100 fits\n",
      "Original model was better than the tuned model, hence it will be returned. NOTE: The display metrics are for the tuned model (not the original one).\n",
      "      Accuracy     AUC  Recall   Prec.      F1   Kappa     MCC\n",
      "Fold                                                          \n",
      "0       0.4546  0.5570  0.7855  0.3538  0.4879  0.0585  0.0816\n",
      "1       0.4632  0.5571  0.7832  0.3577  0.4911  0.0679  0.0930\n",
      "2       0.4449  0.5486  0.7731  0.3475  0.4795  0.0426  0.0595\n",
      "3       0.4501  0.5498  0.7951  0.3529  0.4889  0.0568  0.0807\n",
      "4       0.4566  0.5549  0.7827  0.3544  0.4879  0.0598  0.0828\n",
      "5       0.4626  0.5642  0.7878  0.3580  0.4923  0.0687  0.0947\n",
      "6       0.4607  0.5629  0.8093  0.3598  0.4982  0.0742  0.1053\n",
      "7       0.4551  0.5573  0.7940  0.3552  0.4908  0.0621  0.0874\n",
      "8       0.4538  0.5572  0.7984  0.3550  0.4915  0.0623  0.0883\n",
      "9       0.4564  0.5679  0.8018  0.3567  0.4937  0.0666  0.0943\n",
      "Mean    0.4558  0.5577  0.7911  0.3551  0.4902  0.0620  0.0868\n",
      "Std     0.0053  0.0057  0.0101  0.0032  0.0046  0.0082  0.0115\n"
     ]
    }
   ],
   "source": [
    "tuned_top5 = [tune_model(i, optimize= 'Accuracy') for i in best_models]"
   ]
  },
  {
   "cell_type": "code",
   "execution_count": 24,
   "id": "9cf99eb5-051c-47a5-beaf-fb6d0868f090",
   "metadata": {
    "tags": []
   },
   "outputs": [
    {
     "name": "stdout",
     "output_type": "stream",
     "text": [
      "      Accuracy     AUC  Recall   Prec.      F1   Kappa     MCC\n",
      "Fold                                                          \n",
      "0       0.6691  0.5681  0.0119  0.4884  0.0232  0.0076  0.0302\n",
      "1       0.6702  0.5693  0.0192  0.5397  0.0372  0.0147  0.0485\n",
      "2       0.6663  0.5549  0.0102  0.3462  0.0198  0.0009  0.0033\n",
      "3       0.6702  0.5596  0.0153  0.5510  0.0297  0.0121  0.0451\n",
      "4       0.6715  0.5639  0.0136  0.6667  0.0266  0.0136  0.0588\n",
      "5       0.6703  0.5694  0.0130  0.5750  0.0255  0.0110  0.0451\n",
      "6       0.6700  0.5685  0.0181  0.5333  0.0350  0.0136  0.0459\n",
      "7       0.6692  0.5563  0.0147  0.5000  0.0286  0.0099  0.0357\n",
      "8       0.6694  0.5694  0.0164  0.5000  0.0318  0.0110  0.0377\n",
      "9       0.6709  0.5734  0.0136  0.6000  0.0266  0.0121  0.0497\n",
      "Mean    0.6697  0.5653  0.0146  0.5300  0.0284  0.0106  0.0400\n",
      "Std     0.0013  0.0060  0.0026  0.0797  0.0050  0.0038  0.0144\n"
     ]
    }
   ],
   "source": [
    "blended_top5 = blend_models(estimator_list=tuned_top5)"
   ]
  },
  {
   "cell_type": "code",
   "execution_count": 25,
   "id": "c32e9544-c2b8-4a0b-b01b-8899cfed76d9",
   "metadata": {
    "tags": []
   },
   "outputs": [
    {
     "name": "stdout",
     "output_type": "stream",
     "text": [
      "Transformation Pipeline and Model Successfully Saved\n"
     ]
    },
    {
     "data": {
      "text/plain": [
       "(Pipeline(memory=FastMemory(location=/tmp/joblib),\n",
       "         steps=[('label_encoding',\n",
       "                 TransformerWrapperWithInverse(exclude=None, include=None,\n",
       "                                               transformer=LabelEncoder())),\n",
       "                ('iterative_imputer',\n",
       "                 TransformerWrapper(exclude=None, include=None,\n",
       "                                    transformer=IterativeImputer(add_indicator=False,\n",
       "                                                                 cat_estimator=LGBMClassifier(boosting_type='gbdt',\n",
       "                                                                                              class_weight=None,\n",
       "                                                                                              colsampl...\n",
       "                                                             max_bin=None,\n",
       "                                                             max_cat_threshold=None,\n",
       "                                                             max_cat_to_onehot=None,\n",
       "                                                             max_delta_step=None,\n",
       "                                                             max_depth=None,\n",
       "                                                             max_leaves=None,\n",
       "                                                             min_child_weight=None,\n",
       "                                                             missing=nan,\n",
       "                                                             monotone_constraints=None,\n",
       "                                                             n_estimators=100,\n",
       "                                                             n_jobs=-1,\n",
       "                                                             num_parallel_tree=None,\n",
       "                                                             objective='binary:logistic',\n",
       "                                                             predictor=None, ...))],\n",
       "                                  flatten_transform=True, n_jobs=-1,\n",
       "                                  verbose=False, voting='soft',\n",
       "                                  weights=None))],\n",
       "         verbose=False), 'blended_top5_acc.pkl')"
      ]
     },
     "execution_count": 25,
     "metadata": {},
     "output_type": "execute_result"
    }
   ],
   "source": [
    "save_model(blended_top5, 'blended_top5_acc') "
   ]
  },
  {
   "cell_type": "code",
   "execution_count": 26,
   "id": "ab7d6d93-c58b-4ef5-a82c-6c280a8b7f58",
   "metadata": {
    "tags": []
   },
   "outputs": [
    {
     "name": "stdout",
     "output_type": "stream",
     "text": [
      "      Accuracy     AUC  Recall   Prec.      F1   Kappa     MCC\n",
      "Fold                                                          \n",
      "0       0.6695  0.5541  0.0062  0.5238  0.0123  0.0046  0.0258\n",
      "1       0.6700  0.5653  0.0057  0.6250  0.0112  0.0053  0.0343\n",
      "2       0.6691  0.5490  0.0028  0.4545  0.0056  0.0015  0.0120\n",
      "3       0.6704  0.5546  0.0091  0.6154  0.0178  0.0083  0.0423\n",
      "4       0.6694  0.5621  0.0068  0.5217  0.0134  0.0049  0.0267\n",
      "5       0.6692  0.5671  0.0040  0.5000  0.0079  0.0027  0.0184\n",
      "6       0.6711  0.5674  0.0125  0.6471  0.0244  0.0121  0.0538\n",
      "7       0.6683  0.5563  0.0091  0.4324  0.0177  0.0042  0.0180\n",
      "8       0.6681  0.5679  0.0051  0.3600  0.0101  0.0008  0.0043\n",
      "9       0.6698  0.5685  0.0057  0.5556  0.0112  0.0046  0.0278\n",
      "Mean    0.6695  0.5612  0.0067  0.5236  0.0132  0.0049  0.0263\n",
      "Std     0.0009  0.0068  0.0027  0.0868  0.0052  0.0031  0.0138\n"
     ]
    }
   ],
   "source": [
    "gbc = create_model(\"gbc\")"
   ]
  },
  {
   "cell_type": "code",
   "execution_count": 27,
   "id": "a58508a0-d8be-4caa-93e1-62bf68fadcc6",
   "metadata": {
    "tags": []
   },
   "outputs": [
    {
     "name": "stdout",
     "output_type": "stream",
     "text": [
      "Transformation Pipeline and Model Successfully Saved\n"
     ]
    },
    {
     "data": {
      "text/plain": [
       "(Pipeline(memory=FastMemory(location=/tmp/joblib),\n",
       "         steps=[('label_encoding',\n",
       "                 TransformerWrapperWithInverse(exclude=None, include=None,\n",
       "                                               transformer=LabelEncoder())),\n",
       "                ('iterative_imputer',\n",
       "                 TransformerWrapper(exclude=None, include=None,\n",
       "                                    transformer=IterativeImputer(add_indicator=False,\n",
       "                                                                 cat_estimator=LGBMClassifier(boosting_type='gbdt',\n",
       "                                                                                              class_weight=None,\n",
       "                                                                                              colsampl...\n",
       "                                            criterion='friedman_mse', init=None,\n",
       "                                            learning_rate=0.1, loss='log_loss',\n",
       "                                            max_depth=3, max_features=None,\n",
       "                                            max_leaf_nodes=None,\n",
       "                                            min_impurity_decrease=0.0,\n",
       "                                            min_samples_leaf=1,\n",
       "                                            min_samples_split=2,\n",
       "                                            min_weight_fraction_leaf=0.0,\n",
       "                                            n_estimators=100,\n",
       "                                            n_iter_no_change=None,\n",
       "                                            random_state=123, subsample=1.0,\n",
       "                                            tol=0.0001, validation_fraction=0.1,\n",
       "                                            verbose=0, warm_start=False))],\n",
       "         verbose=False), 'gbc_v1.pkl')"
      ]
     },
     "execution_count": 27,
     "metadata": {},
     "output_type": "execute_result"
    }
   ],
   "source": [
    "save_model(gbc, 'gbc_v1') "
   ]
  },
  {
   "cell_type": "code",
   "execution_count": 28,
   "id": "b5b3e1f7-582f-4048-8ba8-aab37daf3d77",
   "metadata": {},
   "outputs": [
    {
     "name": "stdout",
     "output_type": "stream",
     "text": [
      "      Accuracy     AUC  Recall   Prec.      F1   Kappa     MCC\n",
      "Fold                                                          \n",
      "0       0.4922  0.5466  0.6372  0.3521  0.4536  0.0480  0.0555\n",
      "1       0.5104  0.5645  0.6570  0.3661  0.4702  0.0791  0.0910\n",
      "2       0.4898  0.5430  0.6384  0.3509  0.4528  0.0454  0.0526\n",
      "3       0.4956  0.5602  0.6701  0.3592  0.4677  0.0652  0.0769\n",
      "4       0.4931  0.5583  0.6604  0.3563  0.4629  0.0582  0.0684\n",
      "5       0.5079  0.5628  0.6576  0.3647  0.4692  0.0760  0.0877\n",
      "6       0.5049  0.5620  0.6689  0.3646  0.4720  0.0765  0.0893\n",
      "7       0.4989  0.5491  0.6486  0.3579  0.4613  0.0609  0.0705\n",
      "8       0.5058  0.5707  0.6852  0.3673  0.4783  0.0840  0.0991\n",
      "9       0.4910  0.5568  0.6529  0.3538  0.4589  0.0527  0.0617\n",
      "Mean    0.4990  0.5574  0.6576  0.3593  0.4647  0.0646  0.0753\n",
      "Std     0.0073  0.0082  0.0139  0.0058  0.0078  0.0130  0.0152\n"
     ]
    }
   ],
   "source": [
    "lr =  create_model (\"lr\")"
   ]
  },
  {
   "cell_type": "code",
   "execution_count": 30,
   "id": "7459b2f1-764a-4543-a7cb-9b170a368644",
   "metadata": {
    "tags": []
   },
   "outputs": [
    {
     "name": "stdout",
     "output_type": "stream",
     "text": [
      "Transformation Pipeline and Model Successfully Saved\n"
     ]
    },
    {
     "data": {
      "text/plain": [
       "(Pipeline(memory=FastMemory(location=/tmp/joblib),\n",
       "         steps=[('label_encoding',\n",
       "                 TransformerWrapperWithInverse(exclude=None, include=None,\n",
       "                                               transformer=LabelEncoder())),\n",
       "                ('iterative_imputer',\n",
       "                 TransformerWrapper(exclude=None, include=None,\n",
       "                                    transformer=IterativeImputer(add_indicator=False,\n",
       "                                                                 cat_estimator=LGBMClassifier(boosting_type='gbdt',\n",
       "                                                                                              class_weight=None,\n",
       "                                                                                              colsampl...\n",
       "                 TransformerWrapper(exclude=None, include=None,\n",
       "                                    transformer=StandardScaler(copy=True,\n",
       "                                                               with_mean=True,\n",
       "                                                               with_std=True))),\n",
       "                ('trained_model',\n",
       "                 LogisticRegression(C=1.0, class_weight=None, dual=False,\n",
       "                                    fit_intercept=True, intercept_scaling=1,\n",
       "                                    l1_ratio=None, max_iter=1000,\n",
       "                                    multi_class='auto', n_jobs=None,\n",
       "                                    penalty='l2', random_state=123,\n",
       "                                    solver='lbfgs', tol=0.0001, verbose=0,\n",
       "                                    warm_start=False))],\n",
       "         verbose=False), 'lr_v1.pkl')"
      ]
     },
     "execution_count": 30,
     "metadata": {},
     "output_type": "execute_result"
    }
   ],
   "source": [
    "save_model(lr, 'lr_v1') "
   ]
  },
  {
   "cell_type": "code",
   "execution_count": 31,
   "id": "fe7a9d82-1659-41c6-a0d7-b6c8b8080b28",
   "metadata": {
    "tags": []
   },
   "outputs": [
    {
     "name": "stdout",
     "output_type": "stream",
     "text": [
      "      Accuracy     AUC  Recall   Prec.      F1   Kappa     MCC\n",
      "Fold                                                          \n",
      "0       0.3328  0.5274  0.9966  0.3310  0.4970  0.0009  0.0098\n",
      "1       0.3309  0.5406  0.9955  0.3303  0.4960 -0.0013 -0.0168\n",
      "2       0.3324  0.5235  0.9955  0.3308  0.4965  0.0002  0.0016\n",
      "3       0.3322  0.5346  0.9960  0.3308  0.4966  0.0002  0.0017\n",
      "4       0.3328  0.5378  0.9949  0.3309  0.4966  0.0003  0.0032\n",
      "5       0.3326  0.5381  0.9949  0.3308  0.4965  0.0001  0.0014\n",
      "6       0.3338  0.5312  0.9904  0.3307  0.4958 -0.0003 -0.0019\n",
      "7       0.3373  0.5232  0.9819  0.3309  0.4950  0.0004  0.0022\n",
      "8       0.3347  0.5420  0.9921  0.3311  0.4965  0.0014  0.0105\n",
      "9       0.3306  0.5362  0.9994  0.3305  0.4968 -0.0002 -0.0070\n",
      "Mean    0.3330  0.5335  0.9937  0.3308  0.4963  0.0002  0.0005\n",
      "Std     0.0018  0.0065  0.0046  0.0002  0.0005  0.0007  0.0075\n"
     ]
    }
   ],
   "source": [
    "nb = create_model(\"nb\")"
   ]
  },
  {
   "cell_type": "code",
   "execution_count": 32,
   "id": "b23e3360-f097-473f-ac71-ecfd845e7030",
   "metadata": {
    "tags": []
   },
   "outputs": [
    {
     "name": "stdout",
     "output_type": "stream",
     "text": [
      "Transformation Pipeline and Model Successfully Saved\n"
     ]
    },
    {
     "data": {
      "text/plain": [
       "(Pipeline(memory=FastMemory(location=/tmp/joblib),\n",
       "         steps=[('label_encoding',\n",
       "                 TransformerWrapperWithInverse(exclude=None, include=None,\n",
       "                                               transformer=LabelEncoder())),\n",
       "                ('iterative_imputer',\n",
       "                 TransformerWrapper(exclude=None, include=None,\n",
       "                                    transformer=IterativeImputer(add_indicator=False,\n",
       "                                                                 cat_estimator=LGBMClassifier(boosting_type='gbdt',\n",
       "                                                                                              class_weight=None,\n",
       "                                                                                              colsampl...\n",
       "                 TransformerWrapper(exclude=None, include=None,\n",
       "                                    transformer=FixImbalancer(estimator=SMOTE(k_neighbors=5,\n",
       "                                                                              n_jobs=None,\n",
       "                                                                              random_state=None,\n",
       "                                                                              sampling_strategy='auto')))),\n",
       "                ('normalize',\n",
       "                 TransformerWrapper(exclude=None, include=None,\n",
       "                                    transformer=StandardScaler(copy=True,\n",
       "                                                               with_mean=True,\n",
       "                                                               with_std=True))),\n",
       "                ('trained_model',\n",
       "                 GaussianNB(priors=None, var_smoothing=1e-09))],\n",
       "         verbose=False), 'nb_v1.pkl')"
      ]
     },
     "execution_count": 32,
     "metadata": {},
     "output_type": "execute_result"
    }
   ],
   "source": [
    "save_model(nb, 'nb_v1') "
   ]
  },
  {
   "cell_type": "code",
   "execution_count": null,
   "id": "1f973e63-e9c7-43cb-90a2-16c14b73ed56",
   "metadata": {},
   "outputs": [],
   "source": []
  },
  {
   "cell_type": "code",
   "execution_count": 33,
   "id": "3cd96131-ad2c-42d8-8ac3-11caebbb25ec",
   "metadata": {
    "tags": []
   },
   "outputs": [
    {
     "name": "stdout",
     "output_type": "stream",
     "text": [
      "      Accuracy     AUC  Recall   Prec.      F1   Kappa     MCC\n",
      "Fold                                                          \n",
      "0       0.6304  0.5352  0.1449  0.3556  0.2059  0.0178  0.0208\n",
      "1       0.6285  0.5197  0.1285  0.3378  0.1861  0.0048  0.0057\n",
      "2       0.6244  0.5253  0.1370  0.3343  0.1943  0.0025  0.0030\n",
      "3       0.6337  0.5238  0.1341  0.3569  0.1950  0.0175  0.0210\n",
      "4       0.6380  0.5378  0.1420  0.3752  0.2061  0.0298  0.0357\n",
      "5       0.6247  0.5164  0.1341  0.3329  0.1912  0.0015  0.0017\n",
      "6       0.6310  0.5201  0.1341  0.3496  0.1939  0.0128  0.0152\n",
      "7       0.6380  0.5300  0.1409  0.3744  0.2048  0.0292  0.0350\n",
      "8       0.6228  0.5357  0.1376  0.3306  0.1943  0.0000  0.0000\n",
      "9       0.6398  0.5395  0.1529  0.3868  0.2192  0.0392  0.0463\n",
      "Mean    0.6311  0.5283  0.1386  0.3534  0.1991  0.0155  0.0185\n",
      "Std     0.0058  0.0080  0.0065  0.0190  0.0092  0.0130  0.0155\n"
     ]
    }
   ],
   "source": [
    "rf = create_model(\"rf\")"
   ]
  },
  {
   "cell_type": "code",
   "execution_count": 34,
   "id": "bf919707-0057-4b83-b7d1-69774c0026d3",
   "metadata": {
    "tags": []
   },
   "outputs": [
    {
     "name": "stdout",
     "output_type": "stream",
     "text": [
      "Transformation Pipeline and Model Successfully Saved\n"
     ]
    },
    {
     "data": {
      "text/plain": [
       "(Pipeline(memory=FastMemory(location=/tmp/joblib),\n",
       "         steps=[('label_encoding',\n",
       "                 TransformerWrapperWithInverse(exclude=None, include=None,\n",
       "                                               transformer=LabelEncoder())),\n",
       "                ('iterative_imputer',\n",
       "                 TransformerWrapper(exclude=None, include=None,\n",
       "                                    transformer=IterativeImputer(add_indicator=False,\n",
       "                                                                 cat_estimator=LGBMClassifier(boosting_type='gbdt',\n",
       "                                                                                              class_weight=None,\n",
       "                                                                                              colsampl...\n",
       "                 RandomForestClassifier(bootstrap=True, ccp_alpha=0.0,\n",
       "                                        class_weight=None, criterion='gini',\n",
       "                                        max_depth=None, max_features='sqrt',\n",
       "                                        max_leaf_nodes=None, max_samples=None,\n",
       "                                        min_impurity_decrease=0.0,\n",
       "                                        min_samples_leaf=1, min_samples_split=2,\n",
       "                                        min_weight_fraction_leaf=0.0,\n",
       "                                        n_estimators=100, n_jobs=-1,\n",
       "                                        oob_score=False, random_state=123,\n",
       "                                        verbose=0, warm_start=False))],\n",
       "         verbose=False), 'rf_v1.pkl')"
      ]
     },
     "execution_count": 34,
     "metadata": {},
     "output_type": "execute_result"
    }
   ],
   "source": [
    "save_model(rf, 'rf_v1') "
   ]
  },
  {
   "cell_type": "code",
   "execution_count": 35,
   "id": "06bd2bfc-f674-4bf1-881a-423b7f6ba94a",
   "metadata": {
    "tags": []
   },
   "outputs": [
    {
     "name": "stdout",
     "output_type": "stream",
     "text": [
      "      Accuracy     AUC  Recall   Prec.      F1   Kappa     MCC\n",
      "Fold                                                          \n",
      "0       0.6672  0.5640  0.0187  0.4286  0.0358  0.0084  0.0252\n",
      "1       0.6697  0.5609  0.0226  0.5128  0.0434  0.0158  0.0471\n",
      "2       0.6695  0.5581  0.0204  0.5070  0.0392  0.0140  0.0435\n",
      "3       0.6698  0.5657  0.0226  0.5195  0.0434  0.0162  0.0485\n",
      "4       0.6690  0.5596  0.0175  0.4921  0.0339  0.0114  0.0374\n",
      "5       0.6690  0.5677  0.0249  0.4944  0.0474  0.0162  0.0453\n",
      "6       0.6677  0.5681  0.0175  0.4429  0.0338  0.0088  0.0275\n",
      "7       0.6717  0.5588  0.0221  0.6000  0.0426  0.0196  0.0635\n",
      "8       0.6689  0.5665  0.0260  0.4842  0.0494  0.0162  0.0439\n",
      "9       0.6690  0.5765  0.0159  0.4828  0.0307  0.0099  0.0339\n",
      "Mean    0.6692  0.5646  0.0208  0.4964  0.0399  0.0136  0.0416\n",
      "Std     0.0011  0.0053  0.0032  0.0441  0.0060  0.0036  0.0106\n"
     ]
    }
   ],
   "source": [
    "lgbm = create_model(\"lightgbm\")"
   ]
  },
  {
   "cell_type": "code",
   "execution_count": 36,
   "id": "3f871825-7508-4379-b1ce-5a995a982ffb",
   "metadata": {
    "tags": []
   },
   "outputs": [
    {
     "name": "stdout",
     "output_type": "stream",
     "text": [
      "Transformation Pipeline and Model Successfully Saved\n"
     ]
    },
    {
     "data": {
      "text/plain": [
       "(Pipeline(memory=FastMemory(location=/tmp/joblib),\n",
       "         steps=[('label_encoding',\n",
       "                 TransformerWrapperWithInverse(exclude=None, include=None,\n",
       "                                               transformer=LabelEncoder())),\n",
       "                ('iterative_imputer',\n",
       "                 TransformerWrapper(exclude=None, include=None,\n",
       "                                    transformer=IterativeImputer(add_indicator=False,\n",
       "                                                                 cat_estimator=LGBMClassifier(boosting_type='gbdt',\n",
       "                                                                                              class_weight=None,\n",
       "                                                                                              colsampl...\n",
       "                 LGBMClassifier(boosting_type='gbdt', class_weight=None,\n",
       "                                colsample_bytree=1.0, importance_type='split',\n",
       "                                learning_rate=0.1, max_depth=-1,\n",
       "                                min_child_samples=20, min_child_weight=0.001,\n",
       "                                min_split_gain=0.0, n_estimators=100, n_jobs=-1,\n",
       "                                num_leaves=31, objective=None, random_state=123,\n",
       "                                reg_alpha=0.0, reg_lambda=0.0, silent='warn',\n",
       "                                subsample=1.0, subsample_for_bin=200000,\n",
       "                                subsample_freq=0))],\n",
       "         verbose=False), 'lgbm_v1.pkl')"
      ]
     },
     "execution_count": 36,
     "metadata": {},
     "output_type": "execute_result"
    }
   ],
   "source": [
    "save_model(lgbm, 'lgbm_v1') "
   ]
  },
  {
   "cell_type": "code",
   "execution_count": 37,
   "id": "efd6ca02-5e7c-4602-a7a4-ebf723d5d367",
   "metadata": {
    "tags": []
   },
   "outputs": [
    {
     "name": "stdout",
     "output_type": "stream",
     "text": [
      "      Accuracy     AUC  Recall   Prec.      F1   Kappa     MCC\n",
      "Fold                                                          \n",
      "0       0.4977  0.5450  0.6333  0.3547  0.4547  0.0533  0.0612\n",
      "1       0.5072  0.5651  0.6520  0.3634  0.4667  0.0730  0.0839\n",
      "2       0.4832  0.5414  0.6333  0.3462  0.4477  0.0350  0.0408\n",
      "3       0.5005  0.5597  0.6616  0.3608  0.4669  0.0681  0.0794\n",
      "4       0.4931  0.5556  0.6582  0.3560  0.4621  0.0573  0.0672\n",
      "5       0.5092  0.5636  0.6559  0.3653  0.4692  0.0771  0.0887\n",
      "6       0.5019  0.5631  0.6802  0.3645  0.4746  0.0771  0.0910\n",
      "7       0.4991  0.5499  0.6486  0.3580  0.4614  0.0612  0.0708\n",
      "8       0.5047  0.5687  0.6772  0.3655  0.4748  0.0795  0.0934\n",
      "9       0.5015  0.5585  0.6506  0.3596  0.4632  0.0651  0.0753\n",
      "Mean    0.4998  0.5571  0.6551  0.3594  0.4641  0.0647  0.0752\n",
      "Std     0.0071  0.0086  0.0148  0.0057  0.0080  0.0130  0.0152\n"
     ]
    }
   ],
   "source": [
    "lda = create_model(\"lda\")"
   ]
  },
  {
   "cell_type": "code",
   "execution_count": 38,
   "id": "1af32c46-a454-4e9d-88bd-c6a4dcfba6e1",
   "metadata": {
    "tags": []
   },
   "outputs": [
    {
     "name": "stdout",
     "output_type": "stream",
     "text": [
      "Transformation Pipeline and Model Successfully Saved\n"
     ]
    },
    {
     "data": {
      "text/plain": [
       "(Pipeline(memory=FastMemory(location=/tmp/joblib),\n",
       "         steps=[('label_encoding',\n",
       "                 TransformerWrapperWithInverse(exclude=None, include=None,\n",
       "                                               transformer=LabelEncoder())),\n",
       "                ('iterative_imputer',\n",
       "                 TransformerWrapper(exclude=None, include=None,\n",
       "                                    transformer=IterativeImputer(add_indicator=False,\n",
       "                                                                 cat_estimator=LGBMClassifier(boosting_type='gbdt',\n",
       "                                                                                              class_weight=None,\n",
       "                                                                                              colsampl...\n",
       "                                                                              random_state=None,\n",
       "                                                                              sampling_strategy='auto')))),\n",
       "                ('normalize',\n",
       "                 TransformerWrapper(exclude=None, include=None,\n",
       "                                    transformer=StandardScaler(copy=True,\n",
       "                                                               with_mean=True,\n",
       "                                                               with_std=True))),\n",
       "                ('trained_model',\n",
       "                 LinearDiscriminantAnalysis(covariance_estimator=None,\n",
       "                                            n_components=None, priors=None,\n",
       "                                            shrinkage=None, solver='svd',\n",
       "                                            store_covariance=False,\n",
       "                                            tol=0.0001))],\n",
       "         verbose=False), 'lda_v1.pkl')"
      ]
     },
     "execution_count": 38,
     "metadata": {},
     "output_type": "execute_result"
    }
   ],
   "source": [
    "save_model(lda, 'lda_v1') "
   ]
  },
  {
   "cell_type": "code",
   "execution_count": 39,
   "id": "0e40935b-8d16-4379-b38a-b8587dd1966e",
   "metadata": {
    "tags": []
   },
   "outputs": [
    {
     "name": "stdout",
     "output_type": "stream",
     "text": [
      "      Accuracy     AUC  Recall   Prec.      F1   Kappa     MCC\n",
      "Fold                                                          \n",
      "0       0.6594  0.5569  0.0419  0.3682  0.0752  0.0082  0.0157\n",
      "1       0.6618  0.5549  0.0402  0.3901  0.0729  0.0118  0.0237\n",
      "2       0.6639  0.5462  0.0464  0.4249  0.0837  0.0198  0.0387\n",
      "3       0.6672  0.5549  0.0487  0.4699  0.0882  0.0279  0.0557\n",
      "4       0.6629  0.5577  0.0424  0.4076  0.0769  0.0155  0.0308\n",
      "5       0.6595  0.5627  0.0374  0.3587  0.0677  0.0056  0.0112\n",
      "6       0.6565  0.5549  0.0379  0.3317  0.0681  0.0002  0.0004\n",
      "7       0.6630  0.5520  0.0357  0.3962  0.0654  0.0114  0.0244\n",
      "8       0.6614  0.5654  0.0515  0.4044  0.0914  0.0180  0.0329\n",
      "9       0.6614  0.5696  0.0379  0.3785  0.0690  0.0093  0.0189\n",
      "Mean    0.6617  0.5575  0.0420  0.3930  0.0758  0.0128  0.0253\n",
      "Std     0.0028  0.0064  0.0050  0.0361  0.0087  0.0075  0.0147\n"
     ]
    }
   ],
   "source": [
    "ct = create_model(\"catboost\")"
   ]
  },
  {
   "cell_type": "code",
   "execution_count": 40,
   "id": "c597ad23-a58e-4fb0-a45b-25cf3c539e48",
   "metadata": {
    "tags": []
   },
   "outputs": [
    {
     "name": "stdout",
     "output_type": "stream",
     "text": [
      "Transformation Pipeline and Model Successfully Saved\n"
     ]
    },
    {
     "data": {
      "text/plain": [
       "(Pipeline(memory=FastMemory(location=/tmp/joblib),\n",
       "         steps=[('label_encoding',\n",
       "                 TransformerWrapperWithInverse(exclude=None, include=None,\n",
       "                                               transformer=LabelEncoder())),\n",
       "                ('iterative_imputer',\n",
       "                 TransformerWrapper(exclude=None, include=None,\n",
       "                                    transformer=IterativeImputer(add_indicator=False,\n",
       "                                                                 cat_estimator=LGBMClassifier(boosting_type='gbdt',\n",
       "                                                                                              class_weight=None,\n",
       "                                                                                              colsampl...\n",
       "                 TransformerWrapper(exclude=None, include=None,\n",
       "                                    transformer=FixImbalancer(estimator=SMOTE(k_neighbors=5,\n",
       "                                                                              n_jobs=None,\n",
       "                                                                              random_state=None,\n",
       "                                                                              sampling_strategy='auto')))),\n",
       "                ('normalize',\n",
       "                 TransformerWrapper(exclude=None, include=None,\n",
       "                                    transformer=StandardScaler(copy=True,\n",
       "                                                               with_mean=True,\n",
       "                                                               with_std=True))),\n",
       "                ('trained_model',\n",
       "                 <catboost.core.CatBoostClassifier object at 0x7f1123550d90>)],\n",
       "         verbose=False), 'catboost_v1.pkl')"
      ]
     },
     "execution_count": 40,
     "metadata": {},
     "output_type": "execute_result"
    }
   ],
   "source": [
    "save_model(ct, 'catboost_v1') "
   ]
  },
  {
   "cell_type": "code",
   "execution_count": 41,
   "id": "d7128c4c-afad-4403-ba07-75800030f569",
   "metadata": {},
   "outputs": [
    {
     "name": "stdout",
     "output_type": "stream",
     "text": [
      "      Accuracy     AUC  Recall   Prec.      F1   Kappa     MCC\n",
      "Fold                                                          \n",
      "0       0.6655  0.5631  0.0311  0.4231  0.0580  0.0133  0.0310\n",
      "1       0.6650  0.5672  0.0272  0.4034  0.0509  0.0096  0.0233\n",
      "2       0.6672  0.5554  0.0311  0.4545  0.0583  0.0166  0.0401\n",
      "3       0.6708  0.5658  0.0340  0.5357  0.0639  0.0254  0.0638\n",
      "4       0.6672  0.5658  0.0277  0.4495  0.0522  0.0144  0.0364\n",
      "5       0.6672  0.5715  0.0266  0.4476  0.0502  0.0136  0.0352\n",
      "6       0.6649  0.5686  0.0221  0.3861  0.0418  0.0062  0.0163\n",
      "7       0.6668  0.5596  0.0215  0.4270  0.0409  0.0095  0.0266\n",
      "8       0.6664  0.5724  0.0351  0.4429  0.0651  0.0173  0.0392\n",
      "9       0.6672  0.5757  0.0266  0.4434  0.0502  0.0133  0.0341\n",
      "Mean    0.6668  0.5665  0.0283  0.4413  0.0531  0.0139  0.0346\n",
      "Std     0.0016  0.0058  0.0043  0.0377  0.0078  0.0050  0.0120\n"
     ]
    }
   ],
   "source": [
    "blender = blend_models([gbc,lgbm,lda,ct],optimize = \"Accuracy\")"
   ]
  },
  {
   "cell_type": "code",
   "execution_count": 42,
   "id": "08d70ad5-af98-480c-b149-39dad8346346",
   "metadata": {
    "tags": []
   },
   "outputs": [
    {
     "name": "stdout",
     "output_type": "stream",
     "text": [
      "Transformation Pipeline and Model Successfully Saved\n"
     ]
    },
    {
     "data": {
      "text/plain": [
       "(Pipeline(memory=FastMemory(location=/tmp/joblib),\n",
       "         steps=[('label_encoding',\n",
       "                 TransformerWrapperWithInverse(exclude=None, include=None,\n",
       "                                               transformer=LabelEncoder())),\n",
       "                ('iterative_imputer',\n",
       "                 TransformerWrapper(exclude=None, include=None,\n",
       "                                    transformer=IterativeImputer(add_indicator=False,\n",
       "                                                                 cat_estimator=LGBMClassifier(boosting_type='gbdt',\n",
       "                                                                                              class_weight=None,\n",
       "                                                                                              colsampl...\n",
       "                                                              subsample_freq=0)),\n",
       "                                              ('Linear Discriminant Analysis',\n",
       "                                               LinearDiscriminantAnalysis(covariance_estimator=None,\n",
       "                                                                          n_components=None,\n",
       "                                                                          priors=None,\n",
       "                                                                          shrinkage=None,\n",
       "                                                                          solver='svd',\n",
       "                                                                          store_covariance=False,\n",
       "                                                                          tol=0.0001)),\n",
       "                                              ('CatBoost Classifier',\n",
       "                                               <catboost.core.CatBoostClassifier object at 0x7f112389c100>)],\n",
       "                                  flatten_transform=True, n_jobs=-1,\n",
       "                                  verbose=False, voting='soft',\n",
       "                                  weights=None))],\n",
       "         verbose=False), 'blender_v1.pkl')"
      ]
     },
     "execution_count": 42,
     "metadata": {},
     "output_type": "execute_result"
    }
   ],
   "source": [
    "save_model(blender, 'blender_v1') "
   ]
  },
  {
   "cell_type": "code",
   "execution_count": 43,
   "id": "ada7dcd3-5bff-4920-b7ad-0ea295a94894",
   "metadata": {
    "tags": []
   },
   "outputs": [
    {
     "name": "stdout",
     "output_type": "stream",
     "text": [
      "      Accuracy     AUC  Recall   Prec.      F1   Kappa     MCC\n",
      "Fold                                                          \n",
      "0       0.6685  0.5640  0.0198  0.4730  0.0380  0.0117  0.0358\n",
      "1       0.6708  0.5643  0.0198  0.5645  0.0383  0.0162  0.0538\n",
      "2       0.6682  0.5552  0.0181  0.4571  0.0348  0.0099  0.0310\n",
      "3       0.6693  0.5640  0.0153  0.5000  0.0297  0.0102  0.0364\n",
      "4       0.6692  0.5635  0.0125  0.5000  0.0243  0.0084  0.0328\n",
      "5       0.6703  0.5695  0.0187  0.5500  0.0361  0.0147  0.0497\n",
      "6       0.6698  0.5657  0.0175  0.5254  0.0340  0.0129  0.0437\n",
      "7       0.6703  0.5581  0.0164  0.5577  0.0319  0.0132  0.0478\n",
      "8       0.6690  0.5693  0.0221  0.4875  0.0423  0.0140  0.0411\n",
      "9       0.6689  0.5752  0.0125  0.4681  0.0243  0.0073  0.0275\n",
      "Mean    0.6694  0.5649  0.0173  0.5083  0.0334  0.0118  0.0400\n",
      "Std     0.0008  0.0054  0.0030  0.0370  0.0056  0.0027  0.0083\n"
     ]
    }
   ],
   "source": [
    "blender_v2 = blend_models([gbc,lgbm,ct],optimize = \"Accuracy\")"
   ]
  },
  {
   "cell_type": "code",
   "execution_count": 44,
   "id": "520019a2-4f61-42aa-9b86-62ad92feedd8",
   "metadata": {
    "tags": []
   },
   "outputs": [
    {
     "name": "stdout",
     "output_type": "stream",
     "text": [
      "               Model  Accuracy     AUC  Recall  Prec.  F1   Kappa     MCC\n",
      "0  Voting Classifier    0.6704  0.5656       0      0   0  0.0143  0.0495\n"
     ]
    }
   ],
   "source": [
    "pred_v2 = predict_model(blender_v2)"
   ]
  },
  {
   "cell_type": "code",
   "execution_count": 45,
   "id": "d5926050-f3aa-4fd8-935e-4e746aa7c57d",
   "metadata": {
    "tags": []
   },
   "outputs": [
    {
     "name": "stdout",
     "output_type": "stream",
     "text": [
      "      Accuracy     AUC  Recall   Prec.      F1   Kappa     MCC\n",
      "Fold                                                          \n",
      "0       0.6635  0.5667  0.0577  0.4340  0.1019  0.0263  0.0471\n",
      "1       0.6594  0.5662  0.0656  0.4070  0.1131  0.0233  0.0385\n",
      "2       0.6618  0.5560  0.0577  0.4180  0.1014  0.0230  0.0406\n",
      "3       0.6631  0.5665  0.0656  0.4377  0.1142  0.0305  0.0520\n",
      "4       0.6610  0.5640  0.0583  0.4120  0.1021  0.0219  0.0383\n",
      "5       0.6587  0.5720  0.0549  0.3880  0.0962  0.0155  0.0270\n",
      "6       0.6563  0.5667  0.0589  0.3755  0.1018  0.0133  0.0222\n",
      "7       0.6621  0.5598  0.0538  0.4167  0.0952  0.0212  0.0385\n",
      "8       0.6580  0.5715  0.0612  0.3899  0.1057  0.0177  0.0295\n",
      "9       0.6642  0.5751  0.0674  0.4474  0.1171  0.0335  0.0568\n",
      "Mean    0.6608  0.5664  0.0601  0.4126  0.1049  0.0226  0.0390\n",
      "Std     0.0025  0.0054  0.0045  0.0221  0.0071  0.0060  0.0104\n"
     ]
    }
   ],
   "source": [
    "stacker = stack_models([gbc,lgbm,lda,ct])"
   ]
  },
  {
   "cell_type": "code",
   "execution_count": 46,
   "id": "82bddc6e-64a7-40c2-9cc1-1737d979c1e8",
   "metadata": {
    "tags": []
   },
   "outputs": [
    {
     "name": "stdout",
     "output_type": "stream",
     "text": [
      "Transformation Pipeline and Model Successfully Saved\n"
     ]
    },
    {
     "data": {
      "text/plain": [
       "(Pipeline(memory=FastMemory(location=/tmp/joblib),\n",
       "         steps=[('label_encoding',\n",
       "                 TransformerWrapperWithInverse(exclude=None, include=None,\n",
       "                                               transformer=LabelEncoder())),\n",
       "                ('iterative_imputer',\n",
       "                 TransformerWrapper(exclude=None, include=None,\n",
       "                                    transformer=IterativeImputer(add_indicator=False,\n",
       "                                                                 cat_estimator=LGBMClassifier(boosting_type='gbdt',\n",
       "                                                                                              class_weight=None,\n",
       "                                                                                              colsampl...\n",
       "                                                 <catboost.core.CatBoostClassifier object at 0x7f1122c96c50>)],\n",
       "                                    final_estimator=LogisticRegression(C=1.0,\n",
       "                                                                       class_weight=None,\n",
       "                                                                       dual=False,\n",
       "                                                                       fit_intercept=True,\n",
       "                                                                       intercept_scaling=1,\n",
       "                                                                       l1_ratio=None,\n",
       "                                                                       max_iter=1000,\n",
       "                                                                       multi_class='auto',\n",
       "                                                                       n_jobs=None,\n",
       "                                                                       penalty='l2',\n",
       "                                                                       random_state=123,\n",
       "                                                                       solver='lbfgs',\n",
       "                                                                       tol=0.0001,\n",
       "                                                                       verbose=0,\n",
       "                                                                       warm_start=False),\n",
       "                                    n_jobs=-1, passthrough=True,\n",
       "                                    stack_method='auto', verbose=0))],\n",
       "         verbose=False), 'stacker_v1.pkl')"
      ]
     },
     "execution_count": 46,
     "metadata": {},
     "output_type": "execute_result"
    }
   ],
   "source": [
    "save_model(stacker,\"stacker_v1\")"
   ]
  },
  {
   "cell_type": "code",
   "execution_count": null,
   "id": "d2c2228e-6c47-45a7-bd4f-215807af19ff",
   "metadata": {},
   "outputs": [],
   "source": []
  },
  {
   "cell_type": "code",
   "execution_count": null,
   "id": "ce963ca8-4f00-4e1f-aae3-adc39c1b6218",
   "metadata": {},
   "outputs": [],
   "source": []
  }
 ],
 "metadata": {
  "kernelspec": {
   "display_name": "PySpark (python)",
   "language": "python",
   "name": "pyspark_kernel"
  },
  "language_info": {
   "file_extension": ".py",
   "help_links": [
    {
     "text": "MetaKernel Magics",
     "url": "https://metakernel.readthedocs.io/en/latest/source/README.html"
    }
   ],
   "mimetype": "text/x-python",
   "name": "python"
  }
 },
 "nbformat": 4,
 "nbformat_minor": 5
}
