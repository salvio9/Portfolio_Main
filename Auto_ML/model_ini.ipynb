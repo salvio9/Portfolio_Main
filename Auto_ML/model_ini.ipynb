{
 "cells": [
  {
   "cell_type": "code",
   "execution_count": 1,
   "id": "64e8fd9f-4427-4dc9-a87d-90b7118093b0",
   "metadata": {
    "tags": []
   },
   "outputs": [
    {
     "data": {
      "text/plain": [
       "Intitializing PySpark ..."
      ]
     },
     "metadata": {},
     "output_type": "display_data"
    },
    {
     "name": "stdout",
     "output_type": "stream",
     "text": [
      "23/05/30 19:06:25 WARN Utils: Your hostname, DESKTOP-VJTDOFP resolves to a loopback address: 127.0.1.1; using 172.27.220.32 instead (on interface eth0)\n",
      "23/05/30 19:06:25 WARN Utils: Set SPARK_LOCAL_IP if you need to bind to another address\n",
      "23/05/30 19:06:26 WARN NativeCodeLoader: Unable to load native-hadoop library for your platform... using builtin-java classes where applicable\n",
      "23/05/30 19:06:27 WARN Utils: Service 'SparkUI' could not bind on port 4040. Attempting port 4041.\n",
      "23/05/30 19:06:27 WARN Utils: Service 'SparkUI' could not bind on port 4041. Attempting port 4042.\n"
     ]
    },
    {
     "data": {
      "text/plain": [
       "Spark Web UI available at http://172.27.220.32:4042\n",
       "SparkContext available as 'sc' (version = 3.3.1, master = local[*], app id = local-1685469987549)\n",
       "SparkSession available as 'spark'\n"
      ]
     },
     "metadata": {},
     "output_type": "display_data"
    }
   ],
   "source": [
    "spark\n",
    "import numpy as np\n",
    "import pandas as pd\n",
    "import re\n",
    "import pyspark\n",
    "from pyspark.sql.functions import lit\n",
    "from pyspark.sql.functions import regexp_replace\n",
    "from pyspark.sql.functions import trim,ltrim,rtrim\n",
    "from pyspark.sql.functions import *\n",
    "from pyspark.sql.functions import mean\n",
    "from ydata_profiling import ProfileReport\n",
    "from pyspark.ml.feature import VectorAssembler\n",
    "from pyspark.ml.regression import DecisionTreeRegressor\n",
    "from pyspark.ml.evaluation import RegressionEvaluator\n",
    "from pyspark.sql.functions import lit\n",
    "from pyspark.ml.feature import StringIndexer, OneHotEncoder, VectorAssembler\n",
    "from pyspark.ml import Pipeline\n",
    "from pyspark.ml.classification import DecisionTreeClassifier\n",
    "from pyspark.sql.functions import mean, when, col\n",
    "from pyspark.ml.classification import DecisionTreeClassificationModel\n",
    "from pycaret.classification import *\n",
    "from pycaret.classification import ClassificationExperiment\n",
    "from imblearn.over_sampling import RandomOverSampler, SMOTE\n",
    "from imblearn.under_sampling import RandomUnderSampler, NearMiss\n",
    "from collections import Counter"
   ]
  },
  {
   "cell_type": "code",
   "execution_count": 2,
   "id": "3c648167-0f6a-45aa-8dd5-9946e019e603",
   "metadata": {
    "tags": []
   },
   "outputs": [],
   "source": [
    "path = \"./model_data/part-00000-8f3d2c8d-e21b-4ae6-a337-4cbd28bb3ac8-c000.csv\"\n",
    "df = spark.read.option('header' , 'True').csv(path)\n",
    "df = df.withColumn(\"Prize\",df.Prize.cast('integer'))\n",
    "df = df.withColumn(\"nSets\",df.nSets.cast('integer'))\n",
    "df = df.withColumn(\"Year\",df.Year.cast('integer'))\n",
    "df = df.withColumn(\"rank_dif\",df.rank_dif.cast('double'))\n",
    "df = df.withColumn(\"loser_home\",df.loser_home.cast('int'))\n",
    "df = df.withColumn(\"winner_home\",df.winner_home.cast('int'))\n",
    "df = df.withColumn(\"GameRank_winner\",df.GameRank_winner.cast('double'))\n",
    "df = df.withColumn(\"GameRank_loser\",df.GameRank_loser.cast('double'))\n",
    "df = df.withColumn(\"Height_dif\",df.Height_dif.cast('double'))\n",
    "\n"
   ]
  },
  {
   "cell_type": "code",
   "execution_count": 3,
   "id": "a856313f-cd2a-487c-9393-d91e80d6c0eb",
   "metadata": {
    "tags": []
   },
   "outputs": [],
   "source": [
    "model_df_auto = df"
   ]
  },
  {
   "cell_type": "code",
   "execution_count": 7,
   "id": "fea43443-4f8c-4f12-b99d-99cd6cb86100",
   "metadata": {
    "tags": []
   },
   "outputs": [],
   "source": [
    "dataframes = model_df_auto.randomSplit([0.7, 0.3], seed=26)"
   ]
  },
  {
   "cell_type": "code",
   "execution_count": 8,
   "id": "66fa3d77-ea60-4c03-8bce-71035fb7f342",
   "metadata": {
    "tags": []
   },
   "outputs": [],
   "source": [
    "indexerground = StringIndexer(inputCol=\"Ground\", outputCol=\"GroundIndex\")\n",
    "encoderground = OneHotEncoder(inputCol=\"GroundIndex\", outputCol=\"GroundVec\")\n",
    "indexer_gameround = StringIndexer(inputCol=\"GameRound\", outputCol=\"GameRoundIndex\")\n",
    "encoder_gameround = OneHotEncoder(inputCol=\"GameRoundIndex\", outputCol=\"GameRoundVec\")"
   ]
  },
  {
   "cell_type": "code",
   "execution_count": 10,
   "id": "55358692-6917-4ed1-af8a-1a341de78491",
   "metadata": {
    "tags": []
   },
   "outputs": [],
   "source": [
    "feature_cols = [\"Prize\", \"GameRank_winner\", \"GameRank_loser\", \"GroundVec\", \"Year\", \"GameRoundVec\"]\n",
    "label_col = \"nSets\"\n",
    "assembler = VectorAssembler(\n",
    "    inputCols=[\"Prize\", \"GameRank_winner\", \"GameRank_loser\", \"GroundVec\", \"GameRoundVec\"],\n",
    "    outputCol=\"features\", handleInvalid=\"keep\")\n",
    "pipeline = Pipeline(stages=[indexerground, indexer_gameround, encoderground, encoder_gameround, assembler])\n",
    "pipeline_model = pipeline.fit(model_df_auto)\n",
    "train_data = pipeline_model.transform(dataframes[0]).select(\"features\", label_col)\n",
    "test_data = pipeline_model.transform(dataframes[1]).select(\"features\", label_col)\n"
   ]
  },
  {
   "cell_type": "code",
   "execution_count": 11,
   "id": "e7c7427c-a103-40ab-813b-1e941c1f9baa",
   "metadata": {
    "tags": []
   },
   "outputs": [],
   "source": [
    "dt = DecisionTreeClassifier(featuresCol=\"features\", labelCol=\"nSets\")\n",
    "dt_model = dt.fit(train_data)"
   ]
  },
  {
   "cell_type": "code",
   "execution_count": 17,
   "id": "88c70492-81fe-4952-9e06-d7474568e73c",
   "metadata": {
    "tags": []
   },
   "outputs": [
    {
     "name": "stdout",
     "output_type": "stream",
     "text": [
      "DecisionTreeClassificationModel: uid=DecisionTreeClassifier_f2775db3fe53, depth=5, numNodes=25, numClasses=4, numFeatures=17\n",
      "  If (feature 2 <= 944.5142857142857)\n",
      "   If (feature 2 <= 224.91071428571428)\n",
      "    Predict: 2.0\n",
      "   Else (feature 2 > 224.91071428571428)\n",
      "    If (feature 1 <= 740.5)\n",
      "     Predict: 2.0\n",
      "    Else (feature 1 > 740.5)\n",
      "     If (feature 14 in {0.0})\n",
      "      Predict: 2.0\n",
      "     Else (feature 14 not in {0.0})\n",
      "      If (feature 2 <= 318.5)\n",
      "       Predict: 2.0\n",
      "      Else (feature 2 > 318.5)\n",
      "       Predict: 3.0\n",
      "  Else (feature 2 > 944.5142857142857)\n",
      "   If (feature 1 <= 655.5)\n",
      "    If (feature 10 in {0.0})\n",
      "     Predict: 2.0\n",
      "    Else (feature 10 not in {0.0})\n",
      "     If (feature 2 <= 1457.2692307692307)\n",
      "      If (feature 1 <= 86.5)\n",
      "       Predict: 3.0\n",
      "      Else (feature 1 > 86.5)\n",
      "       Predict: 2.0\n",
      "     Else (feature 2 > 1457.2692307692307)\n",
      "      Predict: 2.0\n",
      "   Else (feature 1 > 655.5)\n",
      "    If (feature 6 in {0.0})\n",
      "     Predict: 2.0\n",
      "    Else (feature 6 not in {0.0})\n",
      "     If (feature 0 <= 252500.0)\n",
      "      Predict: 2.0\n",
      "     Else (feature 0 > 252500.0)\n",
      "      If (feature 3 in {0.0})\n",
      "       Predict: 2.0\n",
      "      Else (feature 3 not in {0.0})\n",
      "       Predict: 3.0\n",
      "\n"
     ]
    }
   ],
   "source": [
    "dt_model = dt.fit(train_data)\n",
    "predictions = dt_model.transform(test_data)\n",
    "predictions = predictions.select(\"prediction\", \"nSets\")\n",
    "arvorefixe = dt_model\n",
    "print(arvorefixe.toDebugString)\n"
   ]
  },
  {
   "cell_type": "code",
   "execution_count": 25,
   "id": "a13c39e9-6405-4dec-af1e-29bd5196d00b",
   "metadata": {
    "tags": []
   },
   "outputs": [
    {
     "data": {
      "text/plain": [
       "15305"
      ]
     },
     "execution_count": 25,
     "metadata": {},
     "output_type": "execute_result"
    }
   ],
   "source": [
    "um = predictions.where((predictions.nSets == 2)&(predictions.prediction==2)).count()\n",
    "um"
   ]
  },
  {
   "cell_type": "code",
   "execution_count": 26,
   "id": "d6df75a7-999f-44b2-a090-20dc36ae53bc",
   "metadata": {
    "tags": []
   },
   "outputs": [
    {
     "data": {
      "text/plain": [
       "2"
      ]
     },
     "execution_count": 26,
     "metadata": {},
     "output_type": "execute_result"
    }
   ],
   "source": [
    "dois = predictions.where((predictions.nSets == 3)&(predictions.prediction==3)).count()\n",
    "dois"
   ]
  },
  {
   "cell_type": "code",
   "execution_count": 27,
   "id": "077ed065-c15b-49c9-89c1-c9af0c37f0e2",
   "metadata": {
    "tags": []
   },
   "outputs": [
    {
     "data": {
      "text/plain": [
       "10"
      ]
     },
     "execution_count": 27,
     "metadata": {},
     "output_type": "execute_result"
    }
   ],
   "source": [
    "tres = predictions.where((predictions.nSets == 2)&(predictions.prediction==3)).count()\n",
    "tres"
   ]
  },
  {
   "cell_type": "code",
   "execution_count": 28,
   "id": "08454981-085a-4146-9239-fab1e5cea0fb",
   "metadata": {
    "tags": []
   },
   "outputs": [
    {
     "data": {
      "text/plain": [
       "7506"
      ]
     },
     "execution_count": 28,
     "metadata": {},
     "output_type": "execute_result"
    }
   ],
   "source": [
    "quatro = predictions.where((predictions.nSets == 3)&(predictions.prediction==2)).count()\n",
    "quatro"
   ]
  },
  {
   "cell_type": "code",
   "execution_count": 29,
   "id": "89d4c9e8-a2ce-47ec-9e09-563fbc8de29d",
   "metadata": {
    "tags": []
   },
   "outputs": [
    {
     "data": {
      "text/plain": [
       "0.6706830828550147"
      ]
     },
     "execution_count": 29,
     "metadata": {},
     "output_type": "execute_result"
    }
   ],
   "source": [
    "(um+dois)/(um+dois+tres+quatro)"
   ]
  }
 ],
 "metadata": {
  "kernelspec": {
   "display_name": "PySpark (python)",
   "language": "python",
   "name": "pyspark_kernel"
  },
  "language_info": {
   "file_extension": ".py",
   "help_links": [
    {
     "text": "MetaKernel Magics",
     "url": "https://metakernel.readthedocs.io/en/latest/source/README.html"
    }
   ],
   "mimetype": "text/x-python",
   "name": "python"
  }
 },
 "nbformat": 4,
 "nbformat_minor": 5
}
