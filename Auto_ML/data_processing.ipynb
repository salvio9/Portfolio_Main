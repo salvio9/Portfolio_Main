{
 "cells": [
  {
   "cell_type": "code",
   "execution_count": 1,
   "id": "a19be3c7-3e39-4201-9d91-482d525d2f54",
   "metadata": {
    "tags": []
   },
   "outputs": [
    {
     "data": {
      "text/plain": [
       "Intitializing PySpark ..."
      ]
     },
     "metadata": {},
     "output_type": "display_data"
    },
    {
     "name": "stdout",
     "output_type": "stream",
     "text": [
      "23/06/01 20:37:57 WARN Utils: Your hostname, DESKTOP-VJTDOFP resolves to a loopback address: 127.0.1.1; using 172.27.220.32 instead (on interface eth0)\n",
      "23/06/01 20:37:57 WARN Utils: Set SPARK_LOCAL_IP if you need to bind to another address\n",
      "23/06/01 20:37:58 WARN NativeCodeLoader: Unable to load native-hadoop library for your platform... using builtin-java classes where applicable\n"
     ]
    },
    {
     "data": {
      "text/plain": [
       "Spark Web UI available at http://172.27.220.32:4040\n",
       "SparkContext available as 'sc' (version = 3.3.1, master = local[*], app id = local-1685648279652)\n",
       "SparkSession available as 'spark'\n"
      ]
     },
     "metadata": {},
     "output_type": "display_data"
    }
   ],
   "source": [
    "spark\n",
    "import numpy as np\n",
    "import pandas as pd\n",
    "import re\n",
    "import pyspark\n",
    "from pyspark.sql.functions import lit\n",
    "from pyspark.sql.functions import regexp_replace\n",
    "from pyspark.sql.functions import trim,ltrim,rtrim\n",
    "from pyspark.sql.functions import *\n",
    "from pyspark.sql.functions import mean\n",
    "from ydata_profiling import ProfileReport\n",
    "from pyspark.ml.feature import VectorAssembler\n",
    "from pyspark.ml.regression import DecisionTreeRegressor\n",
    "from pyspark.ml.evaluation import RegressionEvaluator\n",
    "from pyspark.sql.functions import lit,col,isnan\n",
    "from pyspark.ml.feature import StringIndexer, OneHotEncoder, VectorAssembler\n",
    "from pyspark.ml import Pipeline\n",
    "from pyspark.ml.classification import DecisionTreeClassifier\n",
    "from pyspark.sql.functions import mean, when, col\n",
    "from pyspark.ml.classification import DecisionTreeClassificationModel\n",
    "from pycaret.classification import *\n",
    "from pycaret.classification import ClassificationExperiment\n",
    "from imblearn.over_sampling import RandomOverSampler, SMOTE\n",
    "from imblearn.under_sampling import RandomUnderSampler, NearMiss\n",
    "from collections import Counter"
   ]
  },
  {
   "cell_type": "code",
   "execution_count": 2,
   "id": "3e063450-be70-4464-944e-deb36fe39f9b",
   "metadata": {
    "tags": []
   },
   "outputs": [],
   "source": [
    "path_games = \"./trabalho_def_table_games.csv\"\n",
    "path_paises = \"./trabalho_def_table_paises.csv\"\n",
    "path_players = \"./trabalho_def_table_players.csv\"\n",
    "path_tornaments = \"./trabalho_def_table_tournaments.csv\"\n",
    "\n",
    "\n",
    "games_df = spark.read.option('header' , 'True').csv(path_games)\n",
    "\n",
    "paises_df = spark.read.option('header' , 'True').csv(path_paises)\n",
    "\n",
    "players_df = spark.read.option('header' , 'True').csv(path_players)\n",
    "\n",
    "tournaments_df = spark.read.option('header' , 'True').csv(path_tornaments)\n",
    "\n",
    "df_1 = spark.read.json(\"./atpplayers.json\")\n",
    "df_2 = spark.read.json(\"./atpplayers.json\")\n",
    "df_mt = spark.read.json(\"./atpplayers.json\")"
   ]
  },
  {
   "cell_type": "code",
   "execution_count": 3,
   "id": "619184ea-134e-49fa-948d-47f2944af94d",
   "metadata": {
    "tags": []
   },
   "outputs": [],
   "source": [
    "colunas_players = df_2.columns\n",
    "\n",
    "for coluna in colunas_players:\n",
    "    \n",
    "    winner = coluna + \"_2\"\n",
    "    \n",
    "    df_2 = df_2.withColumnRenamed(coluna,winner)\n",
    "    \n",
    "                                       \n",
    "    "
   ]
  },
  {
   "cell_type": "code",
   "execution_count": 4,
   "id": "12a7758c-3558-4f04-a2ed-a06c4ab36876",
   "metadata": {
    "tags": []
   },
   "outputs": [],
   "source": [
    "df_3 = df_1.join(df_2, (df_1.PlayerName == df_2.Oponent_2 )& (df_1.Date == df_2.Date_2 ) & (df_1.Tournament == df_2.Tournament_2)& (df_1.GameRound == df_2.GameRound_2),\"inner\" )"
   ]
  },
  {
   "cell_type": "code",
   "execution_count": 5,
   "id": "7a089aa8-e704-47fe-9e29-84fed4d1e3a7",
   "metadata": {
    "tags": []
   },
   "outputs": [],
   "source": [
    "df_4 = df_3.select(df_3.Date,df_3.GameRound,df_3.Tournament,df_3.Oponent,df_3.GameRank,df_3.Oponent_2,df_3.GameRank_2)"
   ]
  },
  {
   "cell_type": "code",
   "execution_count": 6,
   "id": "1e182c87-4bf3-4797-9a11-ff11bcc30545",
   "metadata": {
    "tags": []
   },
   "outputs": [],
   "source": [
    "games = games_df.select(\"Score\").collect()\n",
    "jogos = []\n",
    "sets = []\n",
    "for i in range (0,len(games)):\n",
    "    i = games[i][\"Score\"]\n",
    "   \n",
    "    \n",
    "    jogo = re.findall(r'\\d\\d', str(i) )\n",
    "    \n",
    "    if isinstance(jogo, list):\n",
    "        jogos.append(jogo)\n",
    "        sets.append(len(jogo))\n",
    "    else:\n",
    "        jogos.append([jogo])\n",
    "        n_sets = [jogo]\n",
    "        sets.append(len(n_sets))\n",
    "   \n",
    "\n",
    "    \n"
   ]
  },
  {
   "cell_type": "code",
   "execution_count": 7,
   "id": "a20d417b-da92-4daf-ac53-7a09e9bc69bc",
   "metadata": {
    "tags": []
   },
   "outputs": [],
   "source": [
    "games_df_pandas = games_df.toPandas()\n",
    "\n"
   ]
  },
  {
   "cell_type": "code",
   "execution_count": 8,
   "id": "a6fd1c63-098f-471f-ad8c-434ee35f6923",
   "metadata": {
    "tags": []
   },
   "outputs": [],
   "source": [
    "games_df_pandas[\"nSets\"] = sets\n",
    "games_df_pandas[\"Sets\"] = jogos\n",
    "\n",
    "\n",
    "new_games_df = spark.createDataFrame(games_df_pandas)"
   ]
  },
  {
   "cell_type": "code",
   "execution_count": 9,
   "id": "7ffa2c05-1c7a-4454-83cb-95785cc845e9",
   "metadata": {
    "tags": []
   },
   "outputs": [],
   "source": [
    "players_df = players_df.where(players_df.Name.isNotNull())\n",
    "\n"
   ]
  },
  {
   "cell_type": "code",
   "execution_count": 10,
   "id": "b0f219ed-2659-4ec3-b637-b0e757080305",
   "metadata": {
    "tags": []
   },
   "outputs": [],
   "source": [
    "players_count = players_df.count()"
   ]
  },
  {
   "cell_type": "code",
   "execution_count": 11,
   "id": "78b534b3-683c-4da7-afe7-b56ea47dce98",
   "metadata": {
    "tags": []
   },
   "outputs": [],
   "source": [
    "paises_df = paises_df.where(paises_df.Codigo.isNotNull())"
   ]
  },
  {
   "cell_type": "code",
   "execution_count": 12,
   "id": "eff21af3-d956-4fd6-a02b-5b4865401780",
   "metadata": {
    "tags": []
   },
   "outputs": [],
   "source": [
    "tournaments_df = tournaments_df.where(tournaments_df.Name.isNotNull())\n"
   ]
  },
  {
   "cell_type": "code",
   "execution_count": null,
   "id": "f7524cfa-6f03-460c-98f2-6e25657fd5b9",
   "metadata": {
    "tags": []
   },
   "outputs": [],
   "source": []
  },
  {
   "cell_type": "code",
   "execution_count": 13,
   "id": "933cc403-a296-43da-a2a3-f7dabb88a93b",
   "metadata": {
    "tags": []
   },
   "outputs": [],
   "source": [
    "lez_see = new_games_df.join(tournaments_df,new_games_df.tournament_id == tournaments_df.id,\"inner\")\n",
    "new_games_df = lez_see.where(lez_see.country == \"US\")\n"
   ]
  },
  {
   "cell_type": "code",
   "execution_count": 14,
   "id": "b4c40497-cc12-4f53-9a76-9574deb4acfa",
   "metadata": {
    "tags": []
   },
   "outputs": [
    {
     "name": "stdout",
     "output_type": "stream",
     "text": [
      "23/06/01 20:38:51 WARN TaskSetManager: Stage 13 contains a task of very large size (4372 KiB). The maximum recommended task size is 1000 KiB.\n"
     ]
    },
    {
     "data": {
      "text/plain": [
       "86147"
      ]
     },
     "execution_count": 14,
     "metadata": {},
     "output_type": "execute_result"
    }
   ],
   "source": [
    "new_games_df.count()"
   ]
  },
  {
   "cell_type": "code",
   "execution_count": 15,
   "id": "3dd2388f-acb6-4017-a031-9dd083c054f9",
   "metadata": {
    "tags": []
   },
   "outputs": [
    {
     "name": "stdout",
     "output_type": "stream",
     "text": [
      "23/06/01 20:38:53 WARN TaskSetManager: Stage 17 contains a task of very large size (4372 KiB). The maximum recommended task size is 1000 KiB.\n",
      "-RECORD 0-----------------------------\n",
      " GameRank      | 1187                 \n",
      " GameRound     | 1st Round Qualifying \n",
      " Score         | 67,  67              \n",
      " tournament_id | 186                  \n",
      " winner_id     | 102                  \n",
      " loser_id      | 7274                 \n",
      " nSets         | 2                    \n",
      " Sets          | [67, 67]             \n",
      " id            | 186                  \n",
      " Date          | 2016.10.31 - 2016... \n",
      " Ground        | Hard                 \n",
      " Location      | Charlottesville, ... \n",
      " Name          | Charlottesville      \n",
      " Prize         | $50,000              \n",
      " country       | US                   \n",
      "only showing top 1 row\n",
      "\n"
     ]
    }
   ],
   "source": [
    "new_games_df.show(1,vertical = True)"
   ]
  },
  {
   "cell_type": "code",
   "execution_count": 16,
   "id": "c5d5efda-3333-48a4-932a-52b81c1458c9",
   "metadata": {
    "tags": []
   },
   "outputs": [],
   "source": [
    "new_games_df_ini = new_games_df"
   ]
  },
  {
   "cell_type": "code",
   "execution_count": 17,
   "id": "8e5cc2a7-468e-498d-9025-e852c1c8feb3",
   "metadata": {
    "tags": []
   },
   "outputs": [],
   "source": [
    "new_games_df_ini= new_games_df_ini.drop(\"nSets\")"
   ]
  },
  {
   "cell_type": "code",
   "execution_count": 18,
   "id": "cd40e80a-a0b8-4a4f-8d97-2f75462d1465",
   "metadata": {
    "tags": []
   },
   "outputs": [],
   "source": [
    "new_games_df_ini= new_games_df_ini.drop(\"Sets\")"
   ]
  },
  {
   "cell_type": "markdown",
   "id": "8108f22b-4c27-4df5-9655-338a1ac232b6",
   "metadata": {
    "tags": []
   },
   "source": [
    "pandas_ini = new_games_df_ini.toPandas()"
   ]
  },
  {
   "cell_type": "markdown",
   "id": "77a8c2ad-5301-4511-bfb2-63abbc2422d4",
   "metadata": {
    "tags": []
   },
   "source": [
    "report = ProfileReport(pandas_ini)\n",
    "report.to_file(\"report_ini.html\")"
   ]
  },
  {
   "cell_type": "code",
   "execution_count": null,
   "id": "5ef939b6-5409-499c-a82c-d3244c669186",
   "metadata": {},
   "outputs": [],
   "source": []
  },
  {
   "cell_type": "code",
   "execution_count": 19,
   "id": "f22a48f7-de04-4d6f-a4b0-f9e5f563f134",
   "metadata": {
    "tags": []
   },
   "outputs": [],
   "source": [
    "df_4 = df_4.alias(\"df_4\")\n",
    "players_df = players_df.alias(\"players_df\")\n"
   ]
  },
  {
   "cell_type": "code",
   "execution_count": 20,
   "id": "07abd9bc-5f42-41ff-ade9-c22a0a025142",
   "metadata": {
    "tags": []
   },
   "outputs": [],
   "source": [
    "df_4 = df_4.join(players_df,df_4.Oponent == players_df.Name ).select(\"df_4.*\",players_df.id)\n",
    "\n"
   ]
  },
  {
   "cell_type": "code",
   "execution_count": 21,
   "id": "38f31ab2-3c13-4f83-8371-95f7fa38debb",
   "metadata": {
    "tags": []
   },
   "outputs": [],
   "source": [
    "df_4 = df_4.select(df_4.Date,df_4.Tournament,df_4.id,df_4.GameRank,df_4.Oponent)\n"
   ]
  },
  {
   "cell_type": "code",
   "execution_count": null,
   "id": "2775e356-ba5c-4f78-b7aa-6d4c91ef0110",
   "metadata": {
    "tags": []
   },
   "outputs": [],
   "source": []
  },
  {
   "cell_type": "code",
   "execution_count": 22,
   "id": "e47a89c6-f463-447a-a21a-19b9225c0edb",
   "metadata": {
    "tags": []
   },
   "outputs": [],
   "source": [
    "df_4 = df_4.withColumn('GameRank', regexp_replace(df_4.GameRank, '[-]', \"2300\").cast('integer'))"
   ]
  },
  {
   "cell_type": "code",
   "execution_count": 23,
   "id": "d069ba62-e28b-4d65-b130-3423f523c940",
   "metadata": {
    "tags": []
   },
   "outputs": [
    {
     "data": {
      "text/plain": [
       "2300"
      ]
     },
     "execution_count": 23,
     "metadata": {},
     "output_type": "execute_result"
    }
   ],
   "source": [
    "df_4.groupby().max('GameRank').first().asDict()['max(GameRank)']"
   ]
  },
  {
   "cell_type": "code",
   "execution_count": 24,
   "id": "fbefe46b-e669-4f10-b81a-96bd7c53b698",
   "metadata": {
    "tags": []
   },
   "outputs": [],
   "source": [
    "df_4_winner = df_4\n",
    "df_4_loser = df_4\n",
    "\n",
    "\n",
    "colunas_players = df_4.columns\n",
    "\n",
    "for coluna in colunas_players:\n",
    "    \n",
    "    winner = coluna + \"_winner\"\n",
    "    loser = coluna + \"_loser\"\n",
    "    \n",
    "    df_4_loser = df_4_loser.withColumnRenamed(coluna,loser)\n",
    "    df_4_winner = df_4_winner.withColumnRenamed(coluna,winner)\n",
    "    \n",
    "                                       \n",
    "    \n",
    "\n",
    "\n"
   ]
  },
  {
   "cell_type": "code",
   "execution_count": 25,
   "id": "759a94b0-b85f-4a4a-a39b-57a9a005ff4a",
   "metadata": {
    "tags": []
   },
   "outputs": [],
   "source": [
    "players_df_work = players_df\n",
    "\n",
    "\n",
    "players_df_work = players_df_work.drop(players_df_work.Hand)\n",
    "players_df_work = players_df_work.drop(players_df_work.Name)\n",
    "players_df_work = players_df_work.drop(players_df_work.Link)\n",
    "players_df_work = players_df_work.drop(players_df_work.Born)\n",
    "    \n",
    "\n",
    "colunas_players = players_df_work.columns\n",
    "\n",
    "\n",
    "winner_df = players_df_work\n",
    "\n",
    "loser_df = players_df_work\n",
    "\n"
   ]
  },
  {
   "cell_type": "code",
   "execution_count": 26,
   "id": "1b417325-c799-4e98-bb76-49df38597f18",
   "metadata": {
    "tags": []
   },
   "outputs": [],
   "source": [
    "for coluna in colunas_players:\n",
    "    \n",
    "    winner = coluna + \"_winner\"\n",
    "    loser = coluna + \"_loser\"\n",
    "    \n",
    "    winner_df = winner_df.withColumnRenamed(coluna,winner)\n",
    "    loser_df = loser_df.withColumnRenamed(coluna,loser)\n",
    "                                       \n",
    "    "
   ]
  },
  {
   "cell_type": "code",
   "execution_count": null,
   "id": "d6e2c929-e5a2-4467-a9b1-77cff9e11f44",
   "metadata": {
    "tags": []
   },
   "outputs": [],
   "source": []
  },
  {
   "cell_type": "code",
   "execution_count": 27,
   "id": "7405d017-273c-462c-88ca-28e763bb5d7f",
   "metadata": {
    "tags": []
   },
   "outputs": [
    {
     "name": "stdout",
     "output_type": "stream",
     "text": [
      "23/06/01 20:39:00 WARN TaskSetManager: Stage 29 contains a task of very large size (4372 KiB). The maximum recommended task size is 1000 KiB.\n",
      "+-------+\n",
      "|country|\n",
      "+-------+\n",
      "|     US|\n",
      "+-------+\n",
      "\n"
     ]
    }
   ],
   "source": [
    "df_4_winner = df_4_winner.distinct()\n",
    "df_4_loser = df_4_loser.distinct()\n",
    "\n",
    "work_df = new_games_df\n",
    "\n",
    "work_df.select(work_df.country).distinct().show()"
   ]
  },
  {
   "cell_type": "code",
   "execution_count": 28,
   "id": "ef1d1739-6099-4f01-9e1d-eac0e6ec435d",
   "metadata": {
    "tags": []
   },
   "outputs": [],
   "source": [
    "work_df = work_df.alias(\"work_df\")"
   ]
  },
  {
   "cell_type": "code",
   "execution_count": 29,
   "id": "42b14e61-e3ff-438c-bdb3-1f27008d37de",
   "metadata": {
    "tags": []
   },
   "outputs": [],
   "source": [
    "work_df = work_df.join(df_4_winner, (work_df.winner_id == df_4_winner.id_winner)&(work_df.Date == df_4_winner.Date_winner)&(work_df.Name == df_4_winner.Tournament_winner),\"left\").select(\"work_df.*\",df_4_winner.GameRank_winner)"
   ]
  },
  {
   "cell_type": "code",
   "execution_count": 30,
   "id": "1bc49e7f-df37-46b8-a736-f7a16ae23978",
   "metadata": {
    "tags": []
   },
   "outputs": [],
   "source": [
    "work_df = work_df.alias(\"work_df\")"
   ]
  },
  {
   "cell_type": "code",
   "execution_count": 31,
   "id": "f9699d80-7ee9-417e-aabe-d6919e729ce2",
   "metadata": {
    "tags": []
   },
   "outputs": [],
   "source": [
    "work_df = work_df.join(df_4_loser, (work_df.loser_id == df_4_loser.id_loser)&(work_df.Date == df_4_loser.Date_loser)&(work_df.Name == df_4_loser.Tournament_loser),\"left\").select(\"work_df.*\",df_4_loser.GameRank_loser)"
   ]
  },
  {
   "cell_type": "code",
   "execution_count": 32,
   "id": "b10928c1-4bdb-46b2-8bc2-9320f3fc4cfc",
   "metadata": {
    "tags": []
   },
   "outputs": [],
   "source": [
    "work_df = work_df.join(winner_df, winner_df.id_winner == work_df.winner_id,\"left\")\n",
    "\n"
   ]
  },
  {
   "cell_type": "code",
   "execution_count": 33,
   "id": "9611a7ca-7d1b-4338-b130-389a8716dcf9",
   "metadata": {
    "tags": []
   },
   "outputs": [],
   "source": [
    "work_df = work_df.join(loser_df, loser_df.id_loser == work_df.loser_id,\"left\")"
   ]
  },
  {
   "cell_type": "code",
   "execution_count": 34,
   "id": "d9466e3f-4e1f-41b9-abbd-0258f678ddd7",
   "metadata": {
    "tags": []
   },
   "outputs": [],
   "source": [
    "work_df = work_df.withColumnRenamed(\"id\",\"id_tournament\")"
   ]
  },
  {
   "cell_type": "code",
   "execution_count": 35,
   "id": "5a1b77ac-bfa6-4315-b678-4a90bb28645b",
   "metadata": {
    "tags": []
   },
   "outputs": [
    {
     "name": "stdout",
     "output_type": "stream",
     "text": [
      "23/06/01 20:39:05 WARN TaskSetManager: Stage 37 contains a task of very large size (4372 KiB). The maximum recommended task size is 1000 KiB.\n"
     ]
    }
   ],
   "source": [
    "df_count = work_df.count()"
   ]
  },
  {
   "cell_type": "code",
   "execution_count": 40,
   "id": "02a070fe-e096-4070-8294-cca91e70df32",
   "metadata": {
    "tags": []
   },
   "outputs": [],
   "source": [
    "work_dfmt = work_df"
   ]
  },
  {
   "cell_type": "code",
   "execution_count": 41,
   "id": "659136cf-561a-4fb5-97d6-17befb6f76b2",
   "metadata": {
    "tags": []
   },
   "outputs": [
    {
     "name": "stdout",
     "output_type": "stream",
     "text": [
      "23/06/01 20:39:49 WARN TaskSetManager: Stage 187 contains a task of very large size (4372 KiB). The maximum recommended task size is 1000 KiB.\n",
      "-RECORD 0-------------------------------\n",
      " GameRank        | 39                   \n",
      " GameRound       | Round of 16          \n",
      " Score           | 16 36                \n",
      " tournament_id   | 17321                \n",
      " winner_id       | 3090                 \n",
      " loser_id        | 254                  \n",
      " nSets           | 2                    \n",
      " Sets            | [16, 36]             \n",
      " id_tournament   | 17321                \n",
      " Date            | 2006.08.21 - 2006... \n",
      " Ground          | Hard                 \n",
      " Location        | New Haven, CT, U.... \n",
      " Name            | New Haven            \n",
      " Prize           | $650,000             \n",
      " country         | US                   \n",
      " GameRank_winner | 39                   \n",
      " GameRank_loser  | 57                   \n",
      " id_winner       | 3090                 \n",
      " Height_winner   | 185                  \n",
      " mainhand_winner | Right-Handed         \n",
      " backhand_winner |  Two-Handed Backhand \n",
      " country_winner  | BE                   \n",
      " id_loser        | 254                  \n",
      " Height_loser    | 183                  \n",
      " mainhand_loser  | Right-Handed         \n",
      " backhand_loser  |  Two-Handed Backhand \n",
      " country_loser   | ES                   \n",
      "only showing top 1 row\n",
      "\n"
     ]
    }
   ],
   "source": [
    "work_dfmt.show(1,vertical = True)"
   ]
  },
  {
   "cell_type": "code",
   "execution_count": 42,
   "id": "74fdbaba-7c2f-45ce-a8ad-31396768c8b0",
   "metadata": {
    "tags": []
   },
   "outputs": [],
   "source": [
    "work_df = work_df.drop(work_df.tournament_id)\n",
    "work_df = work_df.drop(work_df.winner_id)\n",
    "work_df = work_df.drop(work_df.loser_id)\n",
    "work_df = work_df.drop(work_df.Score)\n"
   ]
  },
  {
   "cell_type": "code",
   "execution_count": 43,
   "id": "78c165b9-7536-4bea-8b9f-754e0c331993",
   "metadata": {
    "tags": []
   },
   "outputs": [
    {
     "name": "stdout",
     "output_type": "stream",
     "text": [
      "23/06/01 20:39:57 WARN TaskSetManager: Stage 223 contains a task of very large size (4372 KiB). The maximum recommended task size is 1000 KiB.\n"
     ]
    }
   ],
   "source": [
    "games = work_df.select(\"Date\").collect()\n",
    "datas = []\n",
    "\n",
    "for i in range (0,len(games)):\n",
    "    i = games[i][\"Date\"]\n",
    "   \n",
    "    \n",
    "    data = re.findall(r'\\d\\d\\d\\d', str(i) )\n",
    "    \n",
    "    if isinstance(data, list):\n",
    "        datas.append(data[0])\n",
    "        \n",
    "    else:\n",
    "        datas.append(data)\n",
    " "
   ]
  },
  {
   "cell_type": "code",
   "execution_count": 44,
   "id": "9162782c-2062-4ef6-aaa1-96f813011199",
   "metadata": {
    "tags": []
   },
   "outputs": [],
   "source": [
    "work_df = work_df.drop(work_df.country)\n",
    "work_df = work_df.drop(work_df.Location)"
   ]
  },
  {
   "cell_type": "code",
   "execution_count": 45,
   "id": "9005ceb4-77f7-447a-bc89-e358a3843334",
   "metadata": {
    "tags": []
   },
   "outputs": [
    {
     "name": "stdout",
     "output_type": "stream",
     "text": [
      "23/06/01 20:40:06 WARN TaskSetManager: Stage 250 contains a task of very large size (4372 KiB). The maximum recommended task size is 1000 KiB.\n"
     ]
    }
   ],
   "source": [
    "work_df_pandas = work_df.toPandas()"
   ]
  },
  {
   "cell_type": "code",
   "execution_count": 46,
   "id": "1d03899e-ac1c-4979-a6c1-0f227d774d04",
   "metadata": {
    "tags": []
   },
   "outputs": [],
   "source": [
    "work_df_pandas[\"Year\"] = datas"
   ]
  },
  {
   "cell_type": "code",
   "execution_count": 47,
   "id": "b1dda23c-b877-4095-b43e-16d62fc861ca",
   "metadata": {
    "tags": []
   },
   "outputs": [],
   "source": [
    "work_df = spark.createDataFrame(work_df_pandas)"
   ]
  },
  {
   "cell_type": "code",
   "execution_count": null,
   "id": "056bdb23-1c8c-4d47-b144-f8c6a340b6f8",
   "metadata": {},
   "outputs": [],
   "source": []
  },
  {
   "cell_type": "code",
   "execution_count": 48,
   "id": "2f299552-eff5-4a53-969c-3b1294e8f2c7",
   "metadata": {
    "tags": []
   },
   "outputs": [],
   "source": [
    "work_df = work_df.drop(work_df.Date)"
   ]
  },
  {
   "cell_type": "code",
   "execution_count": 49,
   "id": "f763c8c8-c80a-4666-90ff-569cd1cb25b7",
   "metadata": {
    "tags": []
   },
   "outputs": [
    {
     "name": "stdout",
     "output_type": "stream",
     "text": [
      "23/06/01 20:40:22 WARN TaskSetManager: Stage 274 contains a task of very large size (1653 KiB). The maximum recommended task size is 1000 KiB.\n"
     ]
    }
   ],
   "source": [
    "games = work_df.select(\"Name\").collect()\n",
    "is_slam = []\n",
    "for i in range (0,len(games)):\n",
    "    i = games[i][\"Name\"]\n",
    "    \n",
    "    if i == \"US Open\":\n",
    "        is_slam.append(1)\n",
    "    else:\n",
    "        is_slam.append(0)\n",
    "   \n",
    "\n",
    "\n",
    "   "
   ]
  },
  {
   "cell_type": "code",
   "execution_count": 50,
   "id": "6703fa9e-d360-4cf2-9d03-317efe8262b7",
   "metadata": {
    "tags": []
   },
   "outputs": [],
   "source": [
    "work_df = work_df.withColumn(\"Year\",work_df.Year.cast('integer'))"
   ]
  },
  {
   "cell_type": "code",
   "execution_count": 51,
   "id": "245a1e13-efdd-482a-9db6-6eff8de0c9c7",
   "metadata": {
    "tags": []
   },
   "outputs": [
    {
     "name": "stdout",
     "output_type": "stream",
     "text": [
      "23/06/01 20:40:23 WARN TaskSetManager: Stage 275 contains a task of very large size (1653 KiB). The maximum recommended task size is 1000 KiB.\n"
     ]
    }
   ],
   "source": [
    "work_df_pandas= work_df.toPandas()"
   ]
  },
  {
   "cell_type": "code",
   "execution_count": 52,
   "id": "ebc0f4af-fa42-48dc-8af7-56cc64a5fa21",
   "metadata": {
    "tags": []
   },
   "outputs": [],
   "source": [
    "work_df_pandas[\"is_slam\"] = is_slam"
   ]
  },
  {
   "cell_type": "code",
   "execution_count": 53,
   "id": "9ef67a5e-1647-46af-b620-e96f36235213",
   "metadata": {
    "tags": []
   },
   "outputs": [],
   "source": [
    "work_df = spark.createDataFrame(work_df_pandas)\n",
    "\n"
   ]
  },
  {
   "cell_type": "code",
   "execution_count": 54,
   "id": "7e4c3ce2-fb93-445f-b893-f2f7b7365d61",
   "metadata": {
    "tags": []
   },
   "outputs": [],
   "source": [
    "work_df = work_df.drop(\"Name\")\n",
    "work_df = work_df.drop(\"GameRank\")\n"
   ]
  },
  {
   "cell_type": "code",
   "execution_count": 55,
   "id": "e6148654-1d0d-434a-8856-f46cfd7e281e",
   "metadata": {
    "tags": []
   },
   "outputs": [],
   "source": [
    "\n",
    "work_df = work_df.withColumn('Prize', regexp_replace(work_df.Prize, '[$,]', '').cast('double'))\n"
   ]
  },
  {
   "cell_type": "code",
   "execution_count": 56,
   "id": "1d073df1-5bdb-4c98-9209-d9b622e9cb9d",
   "metadata": {
    "tags": []
   },
   "outputs": [],
   "source": [
    "work_df = work_df.withColumn(\"backhand_loser\",ltrim(work_df.backhand_loser))"
   ]
  },
  {
   "cell_type": "code",
   "execution_count": 57,
   "id": "23cc90db-640b-4c50-be6b-518f529550a5",
   "metadata": {
    "tags": []
   },
   "outputs": [],
   "source": [
    "work_df = work_df.withColumn(\"backhand_winner\",ltrim(work_df.backhand_winner))"
   ]
  },
  {
   "cell_type": "code",
   "execution_count": 58,
   "id": "22dc26f5-c877-42b1-a04d-b32dae6654c3",
   "metadata": {
    "tags": []
   },
   "outputs": [
    {
     "name": "stdout",
     "output_type": "stream",
     "text": [
      "23/06/01 20:40:33 WARN TaskSetManager: Stage 276 contains a task of very large size (1460 KiB). The maximum recommended task size is 1000 KiB.\n"
     ]
    }
   ],
   "source": [
    "work_df_pandas= work_df.toPandas()"
   ]
  },
  {
   "cell_type": "markdown",
   "id": "edd55b82-d39d-4df9-85c7-dec1c4829d49",
   "metadata": {
    "tags": []
   },
   "source": [
    "report = ProfileReport(work_df_pandas)\n",
    "report.to_file(\"report.html\")"
   ]
  },
  {
   "cell_type": "code",
   "execution_count": null,
   "id": "34cddac6-894e-46d5-88ff-a0f8405f36f8",
   "metadata": {},
   "outputs": [],
   "source": []
  },
  {
   "cell_type": "code",
   "execution_count": 59,
   "id": "9f750e61-8632-4ca1-b1ba-ed2f126fb2a3",
   "metadata": {
    "tags": []
   },
   "outputs": [],
   "source": [
    "work_df_v2 = work_df"
   ]
  },
  {
   "cell_type": "code",
   "execution_count": 60,
   "id": "e68bcd53-28aa-4319-a1b5-a774b029e72a",
   "metadata": {
    "tags": []
   },
   "outputs": [
    {
     "name": "stdout",
     "output_type": "stream",
     "text": [
      "root\n",
      " |-- GameRound: string (nullable = true)\n",
      " |-- nSets: long (nullable = true)\n",
      " |-- Sets: array (nullable = true)\n",
      " |    |-- element: string (containsNull = true)\n",
      " |-- id_tournament: string (nullable = true)\n",
      " |-- Ground: string (nullable = true)\n",
      " |-- Prize: double (nullable = true)\n",
      " |-- GameRank_winner: double (nullable = true)\n",
      " |-- GameRank_loser: double (nullable = true)\n",
      " |-- id_winner: string (nullable = true)\n",
      " |-- Height_winner: string (nullable = true)\n",
      " |-- mainhand_winner: string (nullable = true)\n",
      " |-- backhand_winner: string (nullable = true)\n",
      " |-- country_winner: string (nullable = true)\n",
      " |-- id_loser: string (nullable = true)\n",
      " |-- Height_loser: string (nullable = true)\n",
      " |-- mainhand_loser: string (nullable = true)\n",
      " |-- backhand_loser: string (nullable = true)\n",
      " |-- country_loser: string (nullable = true)\n",
      " |-- Year: long (nullable = true)\n",
      " |-- is_slam: long (nullable = true)\n",
      "\n"
     ]
    }
   ],
   "source": [
    "work_df_v2.printSchema()"
   ]
  },
  {
   "cell_type": "code",
   "execution_count": 61,
   "id": "e8091716-726c-4967-9f7e-2b0014923455",
   "metadata": {
    "tags": []
   },
   "outputs": [],
   "source": [
    "work_df_v2 = work_df_v2.withColumn(\"Height_winner\",work_df_v2.Height_winner.cast('integer'))"
   ]
  },
  {
   "cell_type": "code",
   "execution_count": 62,
   "id": "7fcf01d7-3afc-48bd-9e43-b8f2ffe862bd",
   "metadata": {
    "tags": []
   },
   "outputs": [],
   "source": [
    "work_df_v2 = work_df_v2.withColumn(\"Height_loser\",work_df_v2.Height_loser.cast('integer'))"
   ]
  },
  {
   "cell_type": "code",
   "execution_count": 63,
   "id": "f7bd9735-a549-4908-8304-e8db8278b8ae",
   "metadata": {
    "tags": []
   },
   "outputs": [],
   "source": [
    "work_df_v2 = work_df_v2.withColumn(\"Height_dif\",abs(work_df_v2.Height_winner -work_df_v2.Height_loser) )\n"
   ]
  },
  {
   "cell_type": "code",
   "execution_count": 64,
   "id": "562eccce-7b94-4281-9775-10c74b99b5d6",
   "metadata": {
    "tags": []
   },
   "outputs": [],
   "source": [
    "work_df_v2 = work_df_v2.withColumn(\"winner_home\", when(col(\"country_winner\") == \"US\", 1).otherwise(0))\n",
    "       \n"
   ]
  },
  {
   "cell_type": "code",
   "execution_count": 65,
   "id": "dfa72d65-f508-4af1-8c00-ce9f31fe16ad",
   "metadata": {
    "tags": []
   },
   "outputs": [],
   "source": [
    "work_df_v2 = work_df_v2.withColumn(\"loser_home\", when(col(\"country_loser\") == \"US\", 1).otherwise(0))"
   ]
  },
  {
   "cell_type": "code",
   "execution_count": 66,
   "id": "2462d6af-5a4a-4438-8c2f-bcad01544941",
   "metadata": {
    "tags": []
   },
   "outputs": [
    {
     "name": "stdout",
     "output_type": "stream",
     "text": [
      "23/06/01 20:40:35 WARN TaskSetManager: Stage 277 contains a task of very large size (1460 KiB). The maximum recommended task size is 1000 KiB.\n",
      "+--------------+\n",
      "|mainhand_loser|\n",
      "+--------------+\n",
      "|  Ambidextrous|\n",
      "|  Right-Handed|\n",
      "|   Left-Handed|\n",
      "|          NULL|\n",
      "|          null|\n",
      "|          null|\n",
      "+--------------+\n",
      "\n"
     ]
    }
   ],
   "source": [
    "work_df_v2.select(work_df_v2.mainhand_loser).distinct().show()\n",
    "        \n",
    "    \n",
    "    "
   ]
  },
  {
   "cell_type": "code",
   "execution_count": 67,
   "id": "000ec821-d35b-4e5a-9166-16b817d28c6d",
   "metadata": {
    "tags": []
   },
   "outputs": [],
   "source": [
    "work_df_v2 = work_df_v2.withColumn(\"comb_hands\", when((col(\"mainhand_loser\") == \"Right-Handed\")&(col(\"mainhand_winner\") == \"Right-Handed\"), \"RR\")\\\n",
    "                                   .when((col(\"mainhand_loser\") == \"Left-Handed\")&(col(\"mainhand_winner\") == \"Left-Handed\"), \"LL\")\\\n",
    "                                   .when((col(\"mainhand_loser\") == \"Right-Handed\")&(col(\"mainhand_winner\") == \"Left-Handed\"), \"RL\")\\\n",
    "                                   .when((col(\"mainhand_loser\") == \"Left-Handed\")&(col(\"mainhand_winner\") == \"Right-Handed\"), \"RL\")\\\n",
    "                                   .when((col(\"mainhand_loser\") == \"Ambidextrous\")&(col(\"mainhand_winner\") == \"Ambidextrous\"), \"AA\")\\\n",
    "                                   .when((col(\"mainhand_loser\") == \"Ambidextrous\")&(col(\"mainhand_winner\") == \"Right-Handed\"), \"RA\")\\\n",
    "                                   .when((col(\"mainhand_loser\") == \"Right-Handed\")&(col(\"mainhand_winner\") == \"Ambidextrous\"), \"RA\")\\\n",
    "                                   .when((col(\"mainhand_loser\") == \"Left-Handed\")&(col(\"mainhand_winner\") == \"Ambidextrous\"), \"LA\")\\\n",
    "                                   .when((col(\"mainhand_loser\") == \"Ambidextrous\")&(col(\"mainhand_winner\") == \"Left-Handed\"), \"LA\")\\\n",
    "                                   .otherwise(\"Null\"))\n",
    "                                   \n"
   ]
  },
  {
   "cell_type": "code",
   "execution_count": 68,
   "id": "3f461397-5f21-47dd-acf2-e0afaa2c395d",
   "metadata": {
    "tags": []
   },
   "outputs": [
    {
     "name": "stdout",
     "output_type": "stream",
     "text": [
      "23/06/01 20:40:36 WARN TaskSetManager: Stage 280 contains a task of very large size (1460 KiB). The maximum recommended task size is 1000 KiB.\n",
      "+----------+\n",
      "|comb_hands|\n",
      "+----------+\n",
      "|        RA|\n",
      "|        RR|\n",
      "|        LL|\n",
      "|        RL|\n",
      "|      Null|\n",
      "|        LA|\n",
      "+----------+\n",
      "\n"
     ]
    }
   ],
   "source": [
    "work_df_v2.select(work_df_v2.comb_hands).distinct().show()"
   ]
  },
  {
   "cell_type": "markdown",
   "id": "dd862971-e724-424e-a9e5-d378b7fe8e53",
   "metadata": {},
   "source": [
    "Usar work_df_v2 a partir daqui para dados de jogadores"
   ]
  },
  {
   "cell_type": "code",
   "execution_count": null,
   "id": "e2a05fa3-f3a6-4ca4-b8f8-dd6ae1b0502b",
   "metadata": {
    "tags": []
   },
   "outputs": [],
   "source": []
  },
  {
   "cell_type": "code",
   "execution_count": 69,
   "id": "3ad87da5-6320-41d3-a1b5-fcf0315115c5",
   "metadata": {
    "tags": []
   },
   "outputs": [
    {
     "name": "stdout",
     "output_type": "stream",
     "text": [
      "23/06/01 20:40:36 WARN TaskSetManager: Stage 283 contains a task of very large size (1460 KiB). The maximum recommended task size is 1000 KiB.\n"
     ]
    },
    {
     "data": {
      "text/plain": [
       "4949"
      ]
     },
     "execution_count": 69,
     "metadata": {},
     "output_type": "execute_result"
    }
   ],
   "source": [
    "work_df_v2.where(work_df_v2.GameRank_winner ==work_df_v2.GameRank_loser).count()"
   ]
  },
  {
   "cell_type": "code",
   "execution_count": 70,
   "id": "7ef1e9a2-7873-4e34-b5ee-da1efab3f873",
   "metadata": {
    "tags": []
   },
   "outputs": [
    {
     "name": "stdout",
     "output_type": "stream",
     "text": [
      "23/06/01 20:40:37 WARN TaskSetManager: Stage 286 contains a task of very large size (1460 KiB). The maximum recommended task size is 1000 KiB.\n"
     ]
    }
   ],
   "source": [
    "work_df_pandas_v2= work_df_v2.toPandas()"
   ]
  },
  {
   "cell_type": "markdown",
   "id": "aede7841-0af7-4fbc-895a-0cb1e1faa6dc",
   "metadata": {
    "tags": []
   },
   "source": [
    "report = ProfileReport(work_df_pandas_v2)\n",
    "report.to_file(\"report_v2.html\")"
   ]
  },
  {
   "cell_type": "code",
   "execution_count": 71,
   "id": "950a1d65-9f2c-496c-9ff1-d81a6a14f816",
   "metadata": {
    "tags": []
   },
   "outputs": [],
   "source": [
    "work_df_v2 = work_df_v2.where(work_df_v2.nSets != 1)\n",
    "work_df_v2 = work_df_v2.where(work_df_v2.nSets != 0)\n",
    "work_df_v2 = work_df_v2.where(work_df_v2.nSets != 6)\n",
    "\n"
   ]
  },
  {
   "cell_type": "code",
   "execution_count": 72,
   "id": "548549ee-2c7d-45dc-bf93-57d1bbc6bb73",
   "metadata": {
    "tags": []
   },
   "outputs": [],
   "source": [
    "work_df_v2 = work_df_v2.drop(work_df_v2.Sets)"
   ]
  },
  {
   "cell_type": "code",
   "execution_count": 73,
   "id": "701227ae-516c-4009-a500-84ab2256b2a0",
   "metadata": {
    "tags": []
   },
   "outputs": [],
   "source": [
    "work_df_v2 = work_df_v2.withColumn(\"rank_dif\",abs(work_df_v2.GameRank_winner-work_df_v2.GameRank_loser)) \n",
    "  "
   ]
  },
  {
   "cell_type": "code",
   "execution_count": 74,
   "id": "b12ad8c8-fdae-4265-b0ac-faed703e7267",
   "metadata": {
    "tags": []
   },
   "outputs": [
    {
     "name": "stdout",
     "output_type": "stream",
     "text": [
      "23/06/01 20:40:38 WARN TaskSetManager: Stage 287 contains a task of very large size (1460 KiB). The maximum recommended task size is 1000 KiB.\n",
      "+--------------------+-----+-------------+------+-----------+---------------+--------------+---------+-------------+---------------+-------------------+--------------+--------+------------+--------------+----------------+-------------+----+-------+----------+-----------+----------+----------+--------+\n",
      "|           GameRound|nSets|id_tournament|Ground|      Prize|GameRank_winner|GameRank_loser|id_winner|Height_winner|mainhand_winner|    backhand_winner|country_winner|id_loser|Height_loser|mainhand_loser|  backhand_loser|country_loser|Year|is_slam|Height_dif|winner_home|loser_home|comb_hands|rank_dif|\n",
      "+--------------------+-----+-------------+------+-----------+---------------+--------------+---------+-------------+---------------+-------------------+--------------+--------+------------+--------------+----------------+-------------+----+-------+----------+-----------+----------+----------+--------+\n",
      "|         Round of 32|    2|         9195|  Hard|    15000.0|          489.0|        2300.0|     6600|         null|   Right-Handed|   Unknown Backhand|            IE|    1000|         191|  Right-Handed|Unknown Backhand|           US|2000|      0|      null|          0|         1|        RR|  1811.0|\n",
      "|         Semi-Finals|    3|        22182|  Hard|    10000.0|          654.0|         887.0|     8803|          175|   Right-Handed|   Unknown Backhand|            VE|    1000|         191|  Right-Handed|Unknown Backhand|           US|2003|      0|        16|          0|         1|        RR|   233.0|\n",
      "|         Round of 32|    2|          379|  Clay|    10000.0|          540.0|         491.0|     9915|         null|   Right-Handed|   Unknown Backhand|            US|    1000|         191|  Right-Handed|Unknown Backhand|           US|2005|      0|      null|          1|         1|        RR|    49.0|\n",
      "|         Round of 32|    3|        15281|  Hard|    15000.0|          400.0|         499.0|      323|          185|   Right-Handed|Two-Handed Backhand|            US|    1000|         191|  Right-Handed|Unknown Backhand|           US|2005|      0|         6|          1|         1|        RR|    99.0|\n",
      "|         Round of 16|    2|         4566|  Hard|    50000.0|           70.0|         244.0|      770|          180|   Right-Handed|Two-Handed Backhand|            SE|    1000|         191|  Right-Handed|Unknown Backhand|           US|2007|      0|        11|          0|         1|        RR|   174.0|\n",
      "|1st Round Qualifying|    2|        10336|  Hard|    50000.0|         2300.0|           NaN|     9662|         null|           null|               null|          NULL|   10022|        null|          NULL|            NULL|         NULL|2010|      0|      null|          0|         0|      Null|     NaN|\n",
      "|         Round of 32|    2|         5621|  Clay|    10000.0|          866.0|           NaN|     3726|         null|           null|               null|          NULL|   10022|        null|          NULL|            NULL|         NULL|2012|      0|      null|          0|         0|      Null|     NaN|\n",
      "|         Round of 32|    2|        18917|  Hard|  1100000.0|           99.0|           NaN|     9006|          170|    Left-Handed|   Unknown Backhand|            AR|   10023|        null|          NULL|            NULL|         NULL|2011|      0|      null|          0|         0|      Null|     NaN|\n",
      "|3rd Round Qualifying|    2|         3223|  Hard|1.7851868E7|          126.0|           NaN|     9229|          180|   Right-Handed|Two-Handed Backhand|            JP|   10023|        null|          NULL|            NULL|         NULL|2014|      1|      null|          0|         0|      Null|     NaN|\n",
      "|         Semi-Finals|    2|         5867|  Hard|   575000.0|          101.0|           NaN|     6289|          185|   Right-Handed|One-Handed Backhand|            US|   10024|        null|          NULL|            NULL|         NULL|2005|      0|      null|          1|         0|      Null|     NaN|\n",
      "|         Semi-Finals|    4|         1688|  Hard|   1.1777E7|            4.0|           NaN|     1356|          191|   Right-Handed|Two-Handed Backhand|            GB|   10024|        null|          NULL|            NULL|         NULL|2012|      1|      null|          0|         0|      Null|     NaN|\n",
      "|         Round of 16|    2|         2932|  Hard|  6134605.0|           14.0|           NaN|     1572|          196|   Right-Handed|Two-Handed Backhand|            ME|   10024|        null|          NULL|            NULL|         NULL|2016|      0|      null|          0|         0|      Null|     NaN|\n",
      "|      Quarter-Finals|    2|        18070|  Hard|  6134605.0|            1.0|           NaN|     5081|          188|   Right-Handed|Two-Handed Backhand|            RS|   10024|        null|          NULL|            NULL|         NULL|2016|      0|      null|          0|         0|      Null|     NaN|\n",
      "|         Round of 32|    3|         5257|  Hard|  6993450.0|           70.0|           NaN|     4767|          170|    Left-Handed|Two-Handed Backhand|            JP|   10024|        null|          NULL|            NULL|         NULL|2017|      0|      null|          0|         0|      Null|     NaN|\n",
      "|         Round of 16|    2|         7186|  Hard|   664825.0|           15.0|           NaN|     8746|          183|   Right-Handed|Two-Handed Backhand|            ES|   10025|        null|          NULL|            NULL|         NULL|2017|      0|      null|          0|         0|      Null|     NaN|\n",
      "|         Round of 64|    2|         4660|  Hard|  2200000.0|           31.0|           NaN|     3090|          185|   Right-Handed|Two-Handed Backhand|            BE|   10026|        null|          NULL|            NULL|         NULL|2003|      0|      null|          0|         0|      Null|     NaN|\n",
      "|         Round of 16|    2|        12055|  Hard|  3200000.0|            3.0|           NaN|     1416|          188|   Right-Handed|Two-Handed Backhand|            US|   10026|        null|          NULL|            NULL|         NULL|2007|      0|      null|          1|         0|      Null|     NaN|\n",
      "|         Round of 16|    3|         8034|  Hard|  2430000.0|            1.0|           NaN|     8105|          185|   Right-Handed|One-Handed Backhand|            CH|   10026|        null|          NULL|            NULL|         NULL|2009|      0|      null|          0|         0|      Null|     NaN|\n",
      "|         Round of 32|    2|        21751|  Hard|  5381235.0|           35.0|           NaN|     5985|          196|   Right-Handed|Two-Handed Backhand|            DE|   10026|        null|          NULL|            NULL|         NULL|2015|      0|      null|          0|         0|      Null|     NaN|\n",
      "|         Round of 64|    3|        12509|  Hard|  4362385.0|          294.0|           NaN|     2830|          185|   Right-Handed|Two-Handed Backhand|            FR|   10026|        null|          NULL|            NULL|         NULL|2016|      0|      null|          0|         0|      Null|     NaN|\n",
      "+--------------------+-----+-------------+------+-----------+---------------+--------------+---------+-------------+---------------+-------------------+--------------+--------+------------+--------------+----------------+-------------+----+-------+----------+-----------+----------+----------+--------+\n",
      "only showing top 20 rows\n",
      "\n"
     ]
    }
   ],
   "source": [
    "work_df_v2.show()\n"
   ]
  },
  {
   "cell_type": "markdown",
   "id": "deef6602-262e-4e28-a195-18d3bca963ec",
   "metadata": {},
   "source": [
    "Report v3"
   ]
  },
  {
   "cell_type": "markdown",
   "id": "4de9c396-df64-4a18-af99-3ef078c6c067",
   "metadata": {
    "tags": []
   },
   "source": [
    "work_df_v3 = work_df_v2.toPandas()"
   ]
  },
  {
   "cell_type": "markdown",
   "id": "9b994ff5-e2bb-460e-b42e-84a1823bbc07",
   "metadata": {
    "tags": []
   },
   "source": [
    "report = ProfileReport(work_df_v3)\n",
    "report.to_file(\"report_v3.html\")"
   ]
  },
  {
   "cell_type": "code",
   "execution_count": null,
   "id": "f50c62ef-fd80-4844-b495-22c082f53c6f",
   "metadata": {},
   "outputs": [],
   "source": []
  },
  {
   "cell_type": "markdown",
   "id": "1647a6fd-098e-46e3-bbce-5a4f2f9f3dd1",
   "metadata": {},
   "source": [
    "Ver que "
   ]
  },
  {
   "cell_type": "markdown",
   "id": "2245c16d-9fed-4009-a81e-dbe0c77fa622",
   "metadata": {
    "tags": []
   },
   "source": [
    "### melissa e tomas"
   ]
  },
  {
   "cell_type": "code",
   "execution_count": 75,
   "id": "1b737f17-3efb-4aeb-8811-3121fcd9de58",
   "metadata": {
    "tags": []
   },
   "outputs": [],
   "source": [
    "work_dfmt = work_dfmt.withColumn('GameRank_winner', regexp_replace(work_dfmt.GameRank, '[-]', \"2300\").cast('integer'))\n",
    "work_dfmt = work_dfmt.withColumn('GameRank_loser', regexp_replace(work_dfmt.GameRank, '[-]', \"2300\").cast('integer'))"
   ]
  },
  {
   "cell_type": "code",
   "execution_count": 76,
   "id": "81e9f474-98ee-4541-8a73-786d24c0b5da",
   "metadata": {
    "tags": []
   },
   "outputs": [],
   "source": [
    "df_filtered = work_dfmt.filter(col(\"GameRank_winner\").isNotNull())"
   ]
  },
  {
   "cell_type": "code",
   "execution_count": 77,
   "id": "2a43ea79-09f9-469b-bbc8-0702ec54f15a",
   "metadata": {
    "tags": []
   },
   "outputs": [],
   "source": [
    "df_filtered_loser = work_dfmt.filter(col(\"GameRank_loser\").isNotNull())\n"
   ]
  },
  {
   "cell_type": "code",
   "execution_count": 78,
   "id": "337047c0-b43b-4df9-885c-add3ca7eb49a",
   "metadata": {
    "tags": []
   },
   "outputs": [],
   "source": [
    "avg_ranks = df_filtered.groupBy(\"winner_id\").agg(avg(\"GameRank_winner\").alias(\"avg_rank\"))\n"
   ]
  },
  {
   "cell_type": "code",
   "execution_count": 79,
   "id": "0c59dd3d-fd5d-4a86-b543-0a172f4a2639",
   "metadata": {
    "tags": []
   },
   "outputs": [],
   "source": [
    "avg_ranks_loser= df_filtered_loser.groupBy(\"loser_id\").agg(avg(\"GameRank_loser\").alias(\"avg_rank\"))"
   ]
  },
  {
   "cell_type": "code",
   "execution_count": 80,
   "id": "ff439431-1b74-46c8-8f22-54952384b179",
   "metadata": {
    "tags": []
   },
   "outputs": [
    {
     "name": "stdout",
     "output_type": "stream",
     "text": [
      "23/06/01 20:40:42 WARN TaskSetManager: Stage 293 contains a task of very large size (4372 KiB). The maximum recommended task size is 1000 KiB.\n",
      "23/06/01 20:40:48 WARN TaskSetManager: Stage 326 contains a task of very large size (4372 KiB). The maximum recommended task size is 1000 KiB.\n"
     ]
    }
   ],
   "source": [
    "rank_winner = avg_ranks.select(avg_ranks.avg_rank).collect()\n",
    "winner = avg_ranks.select(avg_ranks.winner_id).collect()"
   ]
  },
  {
   "cell_type": "code",
   "execution_count": 81,
   "id": "bc4076e2-847f-40ab-978c-24e0c7a03c9b",
   "metadata": {
    "tags": []
   },
   "outputs": [
    {
     "name": "stdout",
     "output_type": "stream",
     "text": [
      "23/06/01 20:40:52 WARN TaskSetManager: Stage 334 contains a task of very large size (4372 KiB). The maximum recommended task size is 1000 KiB.\n",
      "23/06/01 20:40:58 WARN TaskSetManager: Stage 367 contains a task of very large size (4372 KiB). The maximum recommended task size is 1000 KiB.\n"
     ]
    }
   ],
   "source": [
    "rank_loser = avg_ranks_loser.select(avg_ranks_loser.avg_rank).collect()\n",
    "loser = avg_ranks_loser.select(avg_ranks_loser.loser_id).collect()"
   ]
  },
  {
   "cell_type": "code",
   "execution_count": 82,
   "id": "c3de15d1-91c1-4c90-a1bc-e4609dff861a",
   "metadata": {
    "tags": []
   },
   "outputs": [],
   "source": [
    "ranks = []\n",
    "players_ids = []\n",
    "for i in range (0,len(rank_loser)):\n",
    "    rank = rank_loser[i][\"avg_rank\"]\n",
    "    id_player = loser[i][\"loser_id\"]\n",
    "    ranks.append(rank)\n",
    "    players_ids.append(id_player)\n",
    "\n",
    "for i in range (0,len(rank_winner)):\n",
    "    rank = rank_winner[i][\"avg_rank\"]\n",
    "    id_player = winner[i][\"winner_id\"]\n",
    "    ranks.append(rank)\n",
    "    players_ids.append(id_player)\n"
   ]
  },
  {
   "cell_type": "code",
   "execution_count": 83,
   "id": "e1610d6c-fd3a-4011-8256-4dc5bb80c3db",
   "metadata": {
    "tags": []
   },
   "outputs": [],
   "source": [
    "dados = {\"player_id\" :players_ids, \"avg_rank\": ranks}\n",
    "df_pd = pd.DataFrame(dados)\n"
   ]
  },
  {
   "cell_type": "code",
   "execution_count": 84,
   "id": "2526c261-2469-459b-8f65-c29088504c3f",
   "metadata": {
    "tags": []
   },
   "outputs": [],
   "source": [
    "avg_ranks_v2 = spark.createDataFrame(df_pd)\n"
   ]
  },
  {
   "cell_type": "code",
   "execution_count": 85,
   "id": "5b51de8e-a245-44e8-a2da-ed2b1d5f7872",
   "metadata": {
    "tags": []
   },
   "outputs": [],
   "source": [
    "avg_ranks = avg_ranks_v2.groupBy(\"player_id\").agg(avg(\"avg_rank\").alias(\"avg_rank\"))"
   ]
  },
  {
   "cell_type": "code",
   "execution_count": 86,
   "id": "3f2069cc-6f1c-4352-9a5d-01cfed600f17",
   "metadata": {
    "tags": []
   },
   "outputs": [],
   "source": [
    "df = work_df_v2.join(avg_ranks, work_df_v2[\"id_winner\"] == avg_ranks[\"player_id\"], \"left\") \\\n",
    "       .withColumn(\"GameRank_winner\", when(col(\"GameRank_winner\") == \"NaN\", col(\"avg_rank\")).otherwise(col(\"GameRank_winner\"))) \\\n",
    "       .drop(\"avg_rank\", \"player_id\")\n"
   ]
  },
  {
   "cell_type": "code",
   "execution_count": 87,
   "id": "4055a88c-897b-49df-9b0c-fa49b4f97b47",
   "metadata": {
    "tags": []
   },
   "outputs": [],
   "source": [
    "df = df.join(avg_ranks, df[\"id_loser\"] == avg_ranks[\"player_id\"], \"left\") \\\n",
    "       .withColumn(\"GameRank_loser\", when(col(\"GameRank_loser\") == \"NaN\", col(\"avg_rank\")).otherwise(col(\"GameRank_loser\"))) \\\n",
    "       .drop(\"avg_rank\")\n"
   ]
  },
  {
   "cell_type": "code",
   "execution_count": 88,
   "id": "10815096-14d5-4faa-9f40-e61266bfc559",
   "metadata": {},
   "outputs": [
    {
     "name": "stdout",
     "output_type": "stream",
     "text": [
      "+---------+-----------------+\n",
      "|player_id|         avg_rank|\n",
      "+---------+-----------------+\n",
      "|    10024|937.8693181818181|\n",
      "+---------+-----------------+\n",
      "\n"
     ]
    }
   ],
   "source": [
    "avg_ranks.where(avg_ranks.player_id ==10024).show()\n"
   ]
  },
  {
   "cell_type": "code",
   "execution_count": 89,
   "id": "75648e3b-7742-4efa-a902-c2b408678a1c",
   "metadata": {
    "tags": []
   },
   "outputs": [],
   "source": [
    "work_df_v2 = df"
   ]
  },
  {
   "cell_type": "code",
   "execution_count": 90,
   "id": "08595037-4782-4be2-b923-03c6ab7be433",
   "metadata": {
    "tags": []
   },
   "outputs": [
    {
     "name": "stdout",
     "output_type": "stream",
     "text": [
      "23/06/01 20:41:00 WARN TaskSetManager: Stage 373 contains a task of very large size (1460 KiB). The maximum recommended task size is 1000 KiB.\n"
     ]
    },
    {
     "data": {
      "text/plain": [
       "85064"
      ]
     },
     "execution_count": 90,
     "metadata": {},
     "output_type": "execute_result"
    }
   ],
   "source": [
    "work_df_v2.count()"
   ]
  },
  {
   "cell_type": "code",
   "execution_count": 91,
   "id": "6f09e0bc-f755-44f3-b847-572d4548fd33",
   "metadata": {
    "tags": []
   },
   "outputs": [],
   "source": [
    "work_df_v2 = work_df_v2.withColumn(\"rank_dif\",abs(work_df_v2.GameRank_winner-work_df_v2.GameRank_loser) ) "
   ]
  },
  {
   "cell_type": "code",
   "execution_count": 92,
   "id": "5d856260-7697-46e2-9f47-0180abf2623b",
   "metadata": {},
   "outputs": [],
   "source": [
    "work_df_v2 = work_df_v2.drop(work_df_v2.id_winner)\n",
    "work_df_v2 = work_df_v2.drop(work_df_v2.id_loser)"
   ]
  },
  {
   "cell_type": "code",
   "execution_count": 93,
   "id": "beed2bae-8c43-417a-ae94-9d3a10bce2d9",
   "metadata": {
    "tags": []
   },
   "outputs": [],
   "source": [
    "work_df_v2 = work_df_v2.drop(\"player_id\")"
   ]
  },
  {
   "cell_type": "code",
   "execution_count": 94,
   "id": "28e36601-5f8d-48ab-96fc-8641a19abfc9",
   "metadata": {
    "tags": []
   },
   "outputs": [
    {
     "name": "stdout",
     "output_type": "stream",
     "text": [
      "23/06/01 20:41:01 WARN TaskSetManager: Stage 382 contains a task of very large size (1460 KiB). The maximum recommended task size is 1000 KiB.\n"
     ]
    },
    {
     "data": {
      "text/plain": [
       "1"
      ]
     },
     "execution_count": 94,
     "metadata": {},
     "output_type": "execute_result"
    }
   ],
   "source": [
    "work_df_v2.filter(work_df_v2.rank_dif.isNull()).count()"
   ]
  },
  {
   "cell_type": "code",
   "execution_count": 95,
   "id": "f2c676b7-fea5-4805-ac83-b73e4e6193cf",
   "metadata": {
    "tags": []
   },
   "outputs": [
    {
     "name": "stdout",
     "output_type": "stream",
     "text": [
      "23/06/01 20:41:03 WARN TaskSetManager: Stage 391 contains a task of very large size (1460 KiB). The maximum recommended task size is 1000 KiB.\n"
     ]
    },
    {
     "data": {
      "text/plain": [
       "390"
      ]
     },
     "execution_count": 95,
     "metadata": {},
     "output_type": "execute_result"
    }
   ],
   "source": [
    "work_df_v2.filter(work_df_v2.Prize.isNull()).count()"
   ]
  },
  {
   "cell_type": "code",
   "execution_count": 96,
   "id": "5917a050-5fc1-471f-81e5-e69e9688e476",
   "metadata": {
    "tags": []
   },
   "outputs": [],
   "source": [
    "work_df_v2 = work_df_v2.filter(work_df_v2.rank_dif.isNotNull())"
   ]
  },
  {
   "cell_type": "code",
   "execution_count": 97,
   "id": "9eec124d-ee2c-4ac3-84b0-06b01481d561",
   "metadata": {
    "tags": []
   },
   "outputs": [],
   "source": [
    "work_df_v2 = work_df_v2.filter(work_df_v2.Prize.isNotNull())"
   ]
  },
  {
   "cell_type": "code",
   "execution_count": 98,
   "id": "15a29e0a-0d56-4ffd-b238-f012c9ae3000",
   "metadata": {
    "tags": []
   },
   "outputs": [
    {
     "name": "stdout",
     "output_type": "stream",
     "text": [
      "23/06/01 20:41:04 WARN TaskSetManager: Stage 400 contains a task of very large size (1460 KiB). The maximum recommended task size is 1000 KiB.\n"
     ]
    },
    {
     "data": {
      "text/plain": [
       "84673"
      ]
     },
     "execution_count": 98,
     "metadata": {},
     "output_type": "execute_result"
    }
   ],
   "source": [
    "work_df_v2.count()"
   ]
  },
  {
   "cell_type": "code",
   "execution_count": 99,
   "id": "3c72a6c9-bbef-470e-94da-69e849a5726d",
   "metadata": {
    "tags": []
   },
   "outputs": [
    {
     "name": "stdout",
     "output_type": "stream",
     "text": [
      "23/06/01 20:41:05 WARN TaskSetManager: Stage 409 contains a task of very large size (1460 KiB). The maximum recommended task size is 1000 KiB.\n"
     ]
    },
    {
     "data": {
      "text/plain": [
       "227"
      ]
     },
     "execution_count": 99,
     "metadata": {},
     "output_type": "execute_result"
    }
   ],
   "source": [
    "work_df_v2.filter(work_df_v2.Height_loser >= 210).count()"
   ]
  },
  {
   "cell_type": "code",
   "execution_count": 100,
   "id": "1a5b1a2a-5fab-4dd0-ac8f-a31c0063ee75",
   "metadata": {
    "tags": []
   },
   "outputs": [
    {
     "name": "stdout",
     "output_type": "stream",
     "text": [
      "23/06/01 20:41:06 WARN TaskSetManager: Stage 418 contains a task of very large size (1460 KiB). The maximum recommended task size is 1000 KiB.\n"
     ]
    },
    {
     "data": {
      "text/plain": [
       "7"
      ]
     },
     "execution_count": 100,
     "metadata": {},
     "output_type": "execute_result"
    }
   ],
   "source": [
    "work_df_v2.filter(work_df_v2.Height_loser >= 215).count()"
   ]
  },
  {
   "cell_type": "code",
   "execution_count": 101,
   "id": "d1d0a3ed-18dc-40dc-8313-20bd09921e9c",
   "metadata": {
    "tags": []
   },
   "outputs": [
    {
     "name": "stdout",
     "output_type": "stream",
     "text": [
      "23/06/01 20:41:06 WARN TaskSetManager: Stage 427 contains a task of very large size (1460 KiB). The maximum recommended task size is 1000 KiB.\n"
     ]
    },
    {
     "data": {
      "text/plain": [
       "306"
      ]
     },
     "execution_count": 101,
     "metadata": {},
     "output_type": "execute_result"
    }
   ],
   "source": [
    "work_df_v2.filter(work_df_v2.Height_winner >= 210).count()"
   ]
  },
  {
   "cell_type": "code",
   "execution_count": 102,
   "id": "d6db9e4a-7f0d-47ff-ac3d-19d9c1bd024b",
   "metadata": {
    "tags": []
   },
   "outputs": [
    {
     "name": "stdout",
     "output_type": "stream",
     "text": [
      "23/06/01 20:41:07 WARN TaskSetManager: Stage 436 contains a task of very large size (1460 KiB). The maximum recommended task size is 1000 KiB.\n"
     ]
    },
    {
     "data": {
      "text/plain": [
       "2"
      ]
     },
     "execution_count": 102,
     "metadata": {},
     "output_type": "execute_result"
    }
   ],
   "source": [
    "work_df_v2.filter(work_df_v2.Height_winner >= 215).count()"
   ]
  },
  {
   "cell_type": "code",
   "execution_count": 103,
   "id": "072b2006-ac7b-4d14-af4d-daf5b9b9485f",
   "metadata": {
    "tags": []
   },
   "outputs": [
    {
     "name": "stdout",
     "output_type": "stream",
     "text": [
      "23/06/01 20:41:08 WARN TaskSetManager: Stage 445 contains a task of very large size (1460 KiB). The maximum recommended task size is 1000 KiB.\n"
     ]
    },
    {
     "data": {
      "text/plain": [
       "712"
      ]
     },
     "execution_count": 103,
     "metadata": {},
     "output_type": "execute_result"
    }
   ],
   "source": [
    "work_df_v2.filter(work_df_v2.Height_loser <= 140).count()"
   ]
  },
  {
   "cell_type": "code",
   "execution_count": 104,
   "id": "3fea29c1-4527-4fe8-b137-b0d0ee553313",
   "metadata": {
    "tags": []
   },
   "outputs": [
    {
     "name": "stdout",
     "output_type": "stream",
     "text": [
      "23/06/01 20:41:09 WARN TaskSetManager: Stage 454 contains a task of very large size (1460 KiB). The maximum recommended task size is 1000 KiB.\n"
     ]
    },
    {
     "data": {
      "text/plain": [
       "501"
      ]
     },
     "execution_count": 104,
     "metadata": {},
     "output_type": "execute_result"
    }
   ],
   "source": [
    "work_df_v2.filter(work_df_v2.Height_winner <= 140).count()"
   ]
  },
  {
   "cell_type": "code",
   "execution_count": 105,
   "id": "9e076f57-8685-4734-af5c-81b4c8883c62",
   "metadata": {
    "tags": []
   },
   "outputs": [],
   "source": [
    "work_df_v2 = work_df_v2.filter((work_df_v2.Height_winner <= 215)|(work_df_v2.Height_winner.isNull()))"
   ]
  },
  {
   "cell_type": "code",
   "execution_count": 106,
   "id": "bbae009d-f909-426c-b555-b97ce8d98ee2",
   "metadata": {
    "tags": []
   },
   "outputs": [],
   "source": [
    "work_df_v2 = work_df_v2.filter((work_df_v2.Height_loser <= 215)|(work_df_v2.Height_loser.isNull()))"
   ]
  },
  {
   "cell_type": "code",
   "execution_count": 107,
   "id": "a2b865ce-6aa5-43f4-9f43-4d02194e47f1",
   "metadata": {
    "tags": []
   },
   "outputs": [],
   "source": [
    "work_df_v2 = work_df_v2.filter((work_df_v2.Height_loser >= 150)|(work_df_v2.Height_loser.isNull()))"
   ]
  },
  {
   "cell_type": "code",
   "execution_count": 108,
   "id": "cf7f6840-631e-477f-b480-7ec3c2210da4",
   "metadata": {
    "tags": []
   },
   "outputs": [],
   "source": [
    "work_df_v2 = work_df_v2.filter((work_df_v2.Height_winner >= 150)|(work_df_v2.Height_winner.isNull()))"
   ]
  },
  {
   "cell_type": "code",
   "execution_count": 109,
   "id": "ce21facc-f6b8-49ab-b4df-1291edb6c734",
   "metadata": {
    "tags": []
   },
   "outputs": [
    {
     "name": "stdout",
     "output_type": "stream",
     "text": [
      "23/06/01 20:41:10 WARN TaskSetManager: Stage 463 contains a task of very large size (1460 KiB). The maximum recommended task size is 1000 KiB.\n"
     ]
    },
    {
     "data": {
      "text/plain": [
       "83459"
      ]
     },
     "execution_count": 109,
     "metadata": {},
     "output_type": "execute_result"
    }
   ],
   "source": [
    "work_df_v2.count()"
   ]
  },
  {
   "cell_type": "code",
   "execution_count": 110,
   "id": "5ae6ac6c-1c8a-479f-ad56-c61906db68b9",
   "metadata": {
    "tags": []
   },
   "outputs": [],
   "source": [
    "\n",
    "work_df_v2 = work_df_v2.drop(work_df_v2.Height_winner)\n",
    "work_df_v2 = work_df_v2.drop(work_df_v2.mainhand_winner)\n",
    "work_df_v2 = work_df_v2.drop(work_df_v2.backhand_winner)\n",
    "work_df_v2 = work_df_v2.drop(work_df_v2.country_winner)\n",
    "\n",
    "work_df_v2 = work_df_v2.drop(work_df_v2.Height_loser)\n",
    "work_df_v2 = work_df_v2.drop(work_df_v2.mainhand_loser)\n",
    "work_df_v2 = work_df_v2.drop(work_df_v2.backhand_loser)\n",
    "work_df_v2 = work_df_v2.drop(work_df_v2.country_loser)\n",
    "\n",
    "\n"
   ]
  },
  {
   "cell_type": "markdown",
   "id": "693df3f7-6d1c-4cc5-a105-414a6b2c96e1",
   "metadata": {
    "tags": []
   },
   "source": [
    "work_df_v3 = work_df_v2.toPandas()"
   ]
  },
  {
   "cell_type": "markdown",
   "id": "d9a6eba3-1b4b-4ad5-8083-47deab19c504",
   "metadata": {
    "tags": []
   },
   "source": [
    "report = ProfileReport(work_df_v3)\n",
    "report.to_file(\"report_v3.html\")"
   ]
  },
  {
   "cell_type": "code",
   "execution_count": 111,
   "id": "7ab4676c-86ba-4381-8a7e-87d7d7b8f221",
   "metadata": {
    "tags": []
   },
   "outputs": [],
   "source": [
    "model_df = work_df_v2"
   ]
  },
  {
   "cell_type": "code",
   "execution_count": null,
   "id": "b0b1d938-0255-41dd-8f87-2ba1c6c70c0c",
   "metadata": {
    "tags": []
   },
   "outputs": [],
   "source": []
  },
  {
   "cell_type": "code",
   "execution_count": 112,
   "id": "0ad18115-f700-426a-bca4-2a24ea3731d2",
   "metadata": {
    "tags": []
   },
   "outputs": [],
   "source": [
    "model_df = model_df.where(model_df.is_slam == 0)\n"
   ]
  },
  {
   "cell_type": "code",
   "execution_count": 113,
   "id": "963f502d-70d6-479a-bc81-b4f49d006065",
   "metadata": {
    "tags": []
   },
   "outputs": [],
   "source": [
    "model_df = model_df.where(model_df.nSets <= 3)"
   ]
  },
  {
   "cell_type": "code",
   "execution_count": 114,
   "id": "8d0c6d15-4169-40b3-911b-18516d407cad",
   "metadata": {
    "tags": []
   },
   "outputs": [],
   "source": [
    "model_df_auto = model_df"
   ]
  },
  {
   "cell_type": "markdown",
   "id": "adb541e3-94f9-482c-8ea9-708991425800",
   "metadata": {},
   "source": [
    "auto_model"
   ]
  },
  {
   "cell_type": "code",
   "execution_count": 115,
   "id": "cfed4a4e-c28a-46e1-b615-f85a2c9cf7ea",
   "metadata": {
    "tags": []
   },
   "outputs": [
    {
     "name": "stdout",
     "output_type": "stream",
     "text": [
      "23/06/01 20:41:11 WARN TaskSetManager: Stage 472 contains a task of very large size (1460 KiB). The maximum recommended task size is 1000 KiB.\n",
      "+--------------------+-----+-------------+------+---------+---------------+------------------+----+-------+----------+-----------+----------+----------+------------------+\n",
      "|           GameRound|nSets|id_tournament|Ground|    Prize|GameRank_winner|    GameRank_loser|Year|is_slam|Height_dif|winner_home|loser_home|comb_hands|          rank_dif|\n",
      "+--------------------+-----+-------------+------+---------+---------------+------------------+----+-------+----------+-----------+----------+----------+------------------+\n",
      "|         Round of 16|    2|         2932|  Hard|6134605.0|           14.0| 937.8693181818181|2016|      0|      null|          0|         0|      Null| 923.8693181818181|\n",
      "|         Round of 32|    2|        10471|  Clay|  10000.0|          625.0|             621.0|2012|      0|      null|          0|         0|      Null|               4.0|\n",
      "|         Round of 32|    3|         4033|  Clay|  10000.0|         1485.0|            1473.0|2008|      0|      null|          0|         0|      Null|              12.0|\n",
      "|         Round of 32|    3|         5613|  Hard|  10000.0|          785.0|             511.0|2006|      0|        11|          0|         1|        RR|             274.0|\n",
      "|2nd Round Qualifying|    2|         3273|  Hard|  50000.0|          436.0|1305.1818181818182|2008|      0|      null|          0|         0|      Null| 869.1818181818182|\n",
      "|         Round of 32|    2|        17035|  Clay|  10000.0|          267.0|             999.0|2016|      0|        31|          0|         1|        RL|             732.0|\n",
      "|         Round of 32|    2|         1626|  Clay|  10000.0|          783.0|            1747.5|2007|      0|      null|          0|         0|      Null|             964.5|\n",
      "|         Round of 16|    2|         5767|  Hard|  15000.0|          663.0|             652.0|2009|      0|      null|          0|         0|      Null|              11.0|\n",
      "|1st Round Qualifying|    2|         4145|  Hard|  50000.0|          855.0|1205.4705882352941|2011|      0|      null|          0|         0|      Null|350.47058823529414|\n",
      "|         Round of 32|    2|         5767|  Hard|  15000.0|          524.0|             188.0|2009|      0|      null|          0|         0|      Null|             336.0|\n",
      "|         Round of 32|    2|        16675|  Hard|  15000.0|          706.0|             789.0|2007|      0|      null|          0|         0|      Null|              83.0|\n",
      "|1st Round Qualifying|    3|        20705|  Hard|  75000.0|         2300.0|            2300.0|2009|      0|      null|          0|         1|      Null|               0.0|\n",
      "|         Round of 32|    2|         8771|  Hard|  15000.0|         1024.0|            1188.0|2004|      0|      null|          0|         0|      Null|             164.0|\n",
      "|         Round of 32|    2|        15593|  Hard|  15000.0|         2300.0|             688.0|2010|      0|      null|          0|         1|      Null|            1612.0|\n",
      "|         Round of 32|    3|        17867|  Hard|  36680.0|          386.0|             197.0|2021|      0|         8|          0|         0|        RR|             189.0|\n",
      "|         Semi-Finals|    3|        10290|  Clay|  75000.0|          241.0|              83.0|1996|      0|         5|          0|         0|        RR|             158.0|\n",
      "|1st Round Qualifying|    2|        12095|  Hard|  50000.0|         1568.0|             493.0|2014|      0|      null|          1|         0|      Null|            1075.0|\n",
      "|1st Round Qualifying|    3|        20366|  Hard|  50000.0|         1196.0|            2300.0|2015|      0|      null|          0|         1|        RR|            1104.0|\n",
      "|         Round of 16|    2|        14290|  Hard|  50000.0|          482.0|             164.0|2005|      0|      null|          0|         0|        RL|             318.0|\n",
      "|              Finals|    2|         8788|  Hard| 531000.0|           32.0|              61.0|2012|      0|        11|          0|         0|        RR|              29.0|\n",
      "+--------------------+-----+-------------+------+---------+---------------+------------------+----+-------+----------+-----------+----------+----------+------------------+\n",
      "only showing top 20 rows\n",
      "\n"
     ]
    }
   ],
   "source": [
    "model_df_auto.show()"
   ]
  },
  {
   "cell_type": "code",
   "execution_count": 116,
   "id": "44f29e0a-98ea-4fdf-974d-a552831f1ea9",
   "metadata": {
    "tags": []
   },
   "outputs": [],
   "source": [
    "model_df_auto = model_df_auto.drop(\"is_slam\")"
   ]
  },
  {
   "cell_type": "code",
   "execution_count": 117,
   "id": "d2ab0961-a1eb-42cc-b9dd-c0467b902e85",
   "metadata": {
    "tags": []
   },
   "outputs": [],
   "source": [
    "model_df_auto = model_df_auto.drop(\"id_tournament\")"
   ]
  },
  {
   "cell_type": "code",
   "execution_count": null,
   "id": "22338b84-f6e1-4c1f-8f35-48e8046827bb",
   "metadata": {},
   "outputs": [],
   "source": []
  },
  {
   "cell_type": "code",
   "execution_count": 119,
   "id": "e4b86376-25c3-4d40-a9cf-348b707318ce",
   "metadata": {
    "tags": []
   },
   "outputs": [
    {
     "name": "stdout",
     "output_type": "stream",
     "text": [
      "23/06/01 20:41:13 WARN TaskSetManager: Stage 484 contains a task of very large size (1460 KiB). The maximum recommended task size is 1000 KiB.\n",
      "-RECORD 0----------------------------\n",
      " GameRound       | Round of 16       \n",
      " nSets           | 2                 \n",
      " Ground          | Hard              \n",
      " Prize           | 6134605.0         \n",
      " GameRank_winner | 14.0              \n",
      " GameRank_loser  | 937.8693181818181 \n",
      " Year            | 2016              \n",
      " Height_dif      | null              \n",
      " winner_home     | 0                 \n",
      " loser_home      | 0                 \n",
      " comb_hands      | Null              \n",
      " rank_dif        | 923.8693181818181 \n",
      "only showing top 1 row\n",
      "\n"
     ]
    }
   ],
   "source": [
    "model_df_auto.show(1,vertical = True)"
   ]
  },
  {
   "cell_type": "markdown",
   "id": "933f4efd-7464-4741-abb5-a0e806ef4afb",
   "metadata": {
    "tags": []
   },
   "source": [
    "work_df_v3 = model_df_auto.toPandas()"
   ]
  },
  {
   "cell_type": "markdown",
   "id": "6f4ff482-d6c0-48a0-9259-65bdbb4b61c7",
   "metadata": {
    "tags": []
   },
   "source": [
    "report = ProfileReport(work_df_v3)\n",
    "report.to_file(\"report_final.html\")"
   ]
  },
  {
   "cell_type": "code",
   "execution_count": 424,
   "id": "32100eba-8121-4235-8967-62dce41865a7",
   "metadata": {
    "tags": []
   },
   "outputs": [
    {
     "name": "stdout",
     "output_type": "stream",
     "text": [
      "23/05/30 12:27:15 WARN TaskSetManager: Stage 1394 contains a task of very large size (1460 KiB). The maximum recommended task size is 1000 KiB.\n"
     ]
    }
   ],
   "source": [
    "model_df_auto.repartition(1).write.option(\"header\",True).csv(\"./model_data\")"
   ]
  },
  {
   "cell_type": "code",
   "execution_count": null,
   "id": "8c4c44f0-cc5f-4341-ba19-59d8ed1ca2e3",
   "metadata": {},
   "outputs": [],
   "source": []
  }
 ],
 "metadata": {
  "kernelspec": {
   "display_name": "PySpark (python)",
   "language": "python",
   "name": "pyspark_kernel"
  },
  "language_info": {
   "file_extension": ".py",
   "help_links": [
    {
     "text": "MetaKernel Magics",
     "url": "https://metakernel.readthedocs.io/en/latest/source/README.html"
    }
   ],
   "mimetype": "text/x-python",
   "name": "python"
  }
 },
 "nbformat": 4,
 "nbformat_minor": 5
}
